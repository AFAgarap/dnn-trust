{
 "cells": [
  {
   "cell_type": "code",
   "execution_count": 1,
   "metadata": {},
   "outputs": [],
   "source": [
    "from __future__ import absolute_import\n",
    "from __future__ import division\n",
    "from __future__ import print_function\n",
    "\n",
    "__version__ = '1.0.0'\n",
    "\n",
    "import matplotlib.pyplot as plt\n",
    "from models.lenet import LeNet\n",
    "import numpy as np\n",
    "from sklearn.decomposition import PCA\n",
    "from sklearn.model_selection import train_test_split\n",
    "import tensorflow as tf\n",
    "from trustscore import TrustScore\n",
    "from utils import plot_precision_curve\n",
    "from utils import run_model\n",
    "from utils import run_precision_plt\n",
    "assert tf.__version__.startswith('2')"
   ]
  },
  {
   "cell_type": "code",
   "execution_count": 2,
   "metadata": {},
   "outputs": [],
   "source": [
    "tf.config.experimental.set_memory_growth(\n",
    "    tf.config.experimental.list_physical_devices('GPU')[0], True\n",
    ")"
   ]
  },
  {
   "cell_type": "code",
   "execution_count": 3,
   "metadata": {},
   "outputs": [],
   "source": [
    "tf.random.set_seed(42)\n",
    "np.random.seed(42)"
   ]
  },
  {
   "cell_type": "code",
   "execution_count": 4,
   "metadata": {},
   "outputs": [],
   "source": [
    "BATCH_SIZE = 512\n",
    "EPOCHS = 60"
   ]
  },
  {
   "cell_type": "code",
   "execution_count": 5,
   "metadata": {},
   "outputs": [],
   "source": [
    "(train_features, train_labels), (test_features, test_labels) = tf.keras.datasets.mnist.load_data()\n",
    "\n",
    "train_features = train_features.reshape(-1, 28, 28, 1)\n",
    "train_features = train_features.astype('float32')\n",
    "train_features = train_features / 255.\n",
    "train_features = train_features + tf.random.normal(stddev=5e-2, shape=train_features.shape)\n",
    "\n",
    "test_features = test_features.reshape(-1, 28, 28, 1)\n",
    "test_features = test_features.astype('float32')\n",
    "test_features = test_features / 255.\n",
    "\n",
    "train_labels = tf.keras.utils.to_categorical(train_labels)\n",
    "test_labels = tf.keras.utils.to_categorical(test_labels)"
   ]
  },
  {
   "cell_type": "code",
   "execution_count": 6,
   "metadata": {},
   "outputs": [],
   "source": [
    "validation_features, test_features, validation_labels, test_labels = train_test_split(test_features, test_labels, test_size=0.50, stratify=test_labels)"
   ]
  },
  {
   "cell_type": "code",
   "execution_count": 7,
   "metadata": {},
   "outputs": [],
   "source": [
    "pca = PCA(n_components=64)\n",
    "enc_train_features = pca.fit_transform(train_features.numpy().reshape(-1, 784))\n",
    "enc_test_features = pca.transform(test_features.reshape(-1, 784))"
   ]
  },
  {
   "cell_type": "code",
   "execution_count": 8,
   "metadata": {},
   "outputs": [
    {
     "name": "stderr",
     "output_type": "stream",
     "text": [
      "WARNING: Logging before flag parsing goes to stderr.\n",
      "W0827 22:08:06.763828 140421579061056 deprecation.py:323] From /home/darth/tf2/lib/python3.6/site-packages/tensorflow/python/data/util/random_seed.py:58: add_dispatch_support.<locals>.wrapper (from tensorflow.python.ops.array_ops) is deprecated and will be removed in a future version.\n",
      "Instructions for updating:\n",
      "Use tf.where in 2.0, which has the same broadcast rule as np.where\n"
     ]
    }
   ],
   "source": [
    "train_dataset = tf.data.Dataset.from_tensor_slices((train_features, train_labels))\n",
    "train_dataset = train_dataset.prefetch(BATCH_SIZE * 8)\n",
    "train_dataset = train_dataset.shuffle(train_features.shape[0])\n",
    "train_dataset = train_dataset.batch(BATCH_SIZE, True)\n",
    "\n",
    "validation_dataset = tf.data.Dataset.from_tensor_slices((validation_features, validation_labels))\n",
    "validation_dataset = validation_dataset.batch((BATCH_SIZE // 4))\n",
    "\n",
    "test_dataset = tf.data.Dataset.from_tensor_slices((test_features, test_labels))\n",
    "test_dataset = test_dataset.batch((BATCH_SIZE // 4))"
   ]
  },
  {
   "cell_type": "code",
   "execution_count": 9,
   "metadata": {},
   "outputs": [],
   "source": [
    "model = LeNet(num_classes=10)"
   ]
  },
  {
   "cell_type": "code",
   "execution_count": 10,
   "metadata": {},
   "outputs": [],
   "source": [
    "model.compile(loss=tf.losses.categorical_crossentropy,\n",
    "              optimizer=tf.optimizers.SGD(learning_rate=1e-1, decay=1e-6, momentum=9e-1),\n",
    "              metrics=['accuracy'])"
   ]
  },
  {
   "cell_type": "code",
   "execution_count": 11,
   "metadata": {},
   "outputs": [
    {
     "data": {
      "text/plain": [
       "<tf.Tensor: id=303, shape=(1, 10), dtype=float32, numpy=\n",
       "array([[0.1377509 , 0.09279929, 0.11437379, 0.10989769, 0.08626974,\n",
       "        0.09668525, 0.09467942, 0.07116345, 0.09435908, 0.10202137]],\n",
       "      dtype=float32)>"
      ]
     },
     "execution_count": 11,
     "metadata": {},
     "output_type": "execute_result"
    }
   ],
   "source": [
    "model(train_features[0].numpy().reshape(1, 28, 28, 1))"
   ]
  },
  {
   "cell_type": "code",
   "execution_count": 12,
   "metadata": {},
   "outputs": [
    {
     "name": "stdout",
     "output_type": "stream",
     "text": [
      "Model: \"le_net\"\n",
      "_________________________________________________________________\n",
      "Layer (type)                 Output Shape              Param #   \n",
      "=================================================================\n",
      "conv2d (Conv2D)              multiple                  156       \n",
      "_________________________________________________________________\n",
      "max_pooling2d (MaxPooling2D) multiple                  0         \n",
      "_________________________________________________________________\n",
      "conv2d_1 (Conv2D)            multiple                  2416      \n",
      "_________________________________________________________________\n",
      "max_pooling2d_1 (MaxPooling2 multiple                  0         \n",
      "_________________________________________________________________\n",
      "flatten (Flatten)            multiple                  0         \n",
      "_________________________________________________________________\n",
      "dense (Dense)                multiple                  30840     \n",
      "_________________________________________________________________\n",
      "dense_1 (Dense)              multiple                  10164     \n",
      "_________________________________________________________________\n",
      "dense_2 (Dense)              multiple                  850       \n",
      "=================================================================\n",
      "Total params: 44,426\n",
      "Trainable params: 44,426\n",
      "Non-trainable params: 0\n",
      "_________________________________________________________________\n"
     ]
    }
   ],
   "source": [
    "model.summary()"
   ]
  },
  {
   "cell_type": "code",
   "execution_count": 13,
   "metadata": {},
   "outputs": [
    {
     "name": "stdout",
     "output_type": "stream",
     "text": [
      "Epoch 1/60\n",
      "117/117 - 3s - loss: 0.9292 - accuracy: 0.4723 - val_loss: 0.1210 - val_accuracy: 0.9604\n",
      "Epoch 2/60\n",
      "117/117 - 2s - loss: 0.1234 - accuracy: 0.9589 - val_loss: 0.0955 - val_accuracy: 0.9712\n",
      "Epoch 3/60\n",
      "117/117 - 2s - loss: 0.0936 - accuracy: 0.9693 - val_loss: 0.0814 - val_accuracy: 0.9754\n",
      "Epoch 4/60\n",
      "117/117 - 2s - loss: 0.0765 - accuracy: 0.9762 - val_loss: 0.0839 - val_accuracy: 0.9750\n",
      "Epoch 5/60\n",
      "117/117 - 2s - loss: 0.0711 - accuracy: 0.9780 - val_loss: 0.0892 - val_accuracy: 0.9722\n",
      "Epoch 6/60\n",
      "117/117 - 2s - loss: 0.0663 - accuracy: 0.9782 - val_loss: 0.0750 - val_accuracy: 0.9776\n",
      "Epoch 7/60\n",
      "117/117 - 2s - loss: 0.0560 - accuracy: 0.9816 - val_loss: 0.0675 - val_accuracy: 0.9796\n",
      "Epoch 8/60\n",
      "117/117 - 2s - loss: 0.0540 - accuracy: 0.9826 - val_loss: 0.0738 - val_accuracy: 0.9780\n",
      "Epoch 9/60\n",
      "117/117 - 2s - loss: 0.0480 - accuracy: 0.9852 - val_loss: 0.0608 - val_accuracy: 0.9828\n",
      "Epoch 10/60\n",
      "117/117 - 2s - loss: 0.0464 - accuracy: 0.9850 - val_loss: 0.0726 - val_accuracy: 0.9788\n",
      "Epoch 11/60\n",
      "117/117 - 2s - loss: 0.0465 - accuracy: 0.9858 - val_loss: 0.0913 - val_accuracy: 0.9756\n",
      "Epoch 12/60\n",
      "117/117 - 2s - loss: 0.0477 - accuracy: 0.9844 - val_loss: 0.0644 - val_accuracy: 0.9800\n",
      "Epoch 13/60\n",
      "117/117 - 2s - loss: 0.0428 - accuracy: 0.9849 - val_loss: 0.0608 - val_accuracy: 0.9820\n",
      "Epoch 14/60\n",
      "117/117 - 2s - loss: 0.0415 - accuracy: 0.9866 - val_loss: 0.0654 - val_accuracy: 0.9814\n",
      "Epoch 15/60\n",
      "117/117 - 2s - loss: 0.0400 - accuracy: 0.9873 - val_loss: 0.0660 - val_accuracy: 0.9812\n",
      "Epoch 16/60\n",
      "117/117 - 2s - loss: 0.0352 - accuracy: 0.9880 - val_loss: 0.0571 - val_accuracy: 0.9826\n",
      "Epoch 17/60\n",
      "117/117 - 2s - loss: 0.0310 - accuracy: 0.9901 - val_loss: 0.0643 - val_accuracy: 0.9828\n",
      "Epoch 18/60\n",
      "117/117 - 2s - loss: 0.0289 - accuracy: 0.9915 - val_loss: 0.0676 - val_accuracy: 0.9828\n",
      "Epoch 19/60\n",
      "117/117 - 2s - loss: 0.0287 - accuracy: 0.9910 - val_loss: 0.0669 - val_accuracy: 0.9828\n",
      "Epoch 20/60\n",
      "117/117 - 2s - loss: 0.0298 - accuracy: 0.9911 - val_loss: 0.0634 - val_accuracy: 0.9852\n",
      "Epoch 21/60\n",
      "117/117 - 2s - loss: 0.0289 - accuracy: 0.9911 - val_loss: 0.0677 - val_accuracy: 0.9838\n",
      "Epoch 22/60\n",
      "117/117 - 2s - loss: 0.0278 - accuracy: 0.9919 - val_loss: 0.0690 - val_accuracy: 0.9838\n",
      "Epoch 23/60\n",
      "117/117 - 2s - loss: 0.0258 - accuracy: 0.9920 - val_loss: 0.0766 - val_accuracy: 0.9820\n",
      "Epoch 24/60\n",
      "117/117 - 2s - loss: 0.0226 - accuracy: 0.9924 - val_loss: 0.0762 - val_accuracy: 0.9832\n",
      "Epoch 25/60\n",
      "117/117 - 2s - loss: 0.0225 - accuracy: 0.9932 - val_loss: 0.0780 - val_accuracy: 0.9826\n",
      "Epoch 26/60\n",
      "117/117 - 2s - loss: 0.0217 - accuracy: 0.9930 - val_loss: 0.0826 - val_accuracy: 0.9800\n",
      "Epoch 27/60\n",
      "117/117 - 2s - loss: 0.0220 - accuracy: 0.9930 - val_loss: 0.0913 - val_accuracy: 0.9774\n",
      "Epoch 28/60\n",
      "117/117 - 2s - loss: 0.0200 - accuracy: 0.9938 - val_loss: 0.0872 - val_accuracy: 0.9802\n",
      "Epoch 29/60\n",
      "117/117 - 2s - loss: 0.0210 - accuracy: 0.9936 - val_loss: 0.0933 - val_accuracy: 0.9784\n",
      "Epoch 30/60\n",
      "117/117 - 2s - loss: 0.0245 - accuracy: 0.9927 - val_loss: 0.0925 - val_accuracy: 0.9800\n",
      "Epoch 31/60\n",
      "117/117 - 2s - loss: 0.0203 - accuracy: 0.9936 - val_loss: 0.0857 - val_accuracy: 0.9810\n",
      "Epoch 32/60\n",
      "117/117 - 2s - loss: 0.0177 - accuracy: 0.9937 - val_loss: 0.0935 - val_accuracy: 0.9814\n",
      "Epoch 33/60\n",
      "117/117 - 2s - loss: 0.0199 - accuracy: 0.9935 - val_loss: 0.0926 - val_accuracy: 0.9800\n",
      "Epoch 34/60\n",
      "117/117 - 2s - loss: 0.0178 - accuracy: 0.9944 - val_loss: 0.0910 - val_accuracy: 0.9826\n",
      "Epoch 35/60\n",
      "117/117 - 2s - loss: 0.0231 - accuracy: 0.9928 - val_loss: 0.0892 - val_accuracy: 0.9824\n",
      "Epoch 36/60\n",
      "117/117 - 2s - loss: 0.0213 - accuracy: 0.9924 - val_loss: 0.0822 - val_accuracy: 0.9832\n",
      "Epoch 37/60\n",
      "117/117 - 2s - loss: 0.0172 - accuracy: 0.9943 - val_loss: 0.0948 - val_accuracy: 0.9828\n",
      "Epoch 38/60\n",
      "117/117 - 2s - loss: 0.0148 - accuracy: 0.9947 - val_loss: 0.0810 - val_accuracy: 0.9848\n",
      "Epoch 39/60\n",
      "117/117 - 2s - loss: 0.0181 - accuracy: 0.9948 - val_loss: 0.0948 - val_accuracy: 0.9810\n",
      "Epoch 40/60\n",
      "117/117 - 2s - loss: 0.0145 - accuracy: 0.9947 - val_loss: 0.0769 - val_accuracy: 0.9834\n",
      "Epoch 41/60\n",
      "117/117 - 2s - loss: 0.0147 - accuracy: 0.9954 - val_loss: 0.0783 - val_accuracy: 0.9856\n",
      "Epoch 42/60\n",
      "117/117 - 2s - loss: 0.0152 - accuracy: 0.9949 - val_loss: 0.0792 - val_accuracy: 0.9842\n",
      "Epoch 43/60\n",
      "117/117 - 2s - loss: 0.0115 - accuracy: 0.9964 - val_loss: 0.0811 - val_accuracy: 0.9854\n",
      "Epoch 44/60\n",
      "117/117 - 2s - loss: 0.0128 - accuracy: 0.9953 - val_loss: 0.0778 - val_accuracy: 0.9856\n",
      "Epoch 45/60\n",
      "117/117 - 2s - loss: 0.0136 - accuracy: 0.9968 - val_loss: 0.0910 - val_accuracy: 0.9856\n",
      "Epoch 46/60\n",
      "117/117 - 2s - loss: 0.0104 - accuracy: 0.9961 - val_loss: 0.0846 - val_accuracy: 0.9850\n",
      "Epoch 47/60\n",
      "117/117 - 2s - loss: 0.0117 - accuracy: 0.9964 - val_loss: 0.1096 - val_accuracy: 0.9798\n",
      "Epoch 48/60\n",
      "117/117 - 2s - loss: 0.0124 - accuracy: 0.9956 - val_loss: 0.0721 - val_accuracy: 0.9848\n",
      "Epoch 49/60\n",
      "117/117 - 2s - loss: 0.0124 - accuracy: 0.9963 - val_loss: 0.0700 - val_accuracy: 0.9848\n",
      "Epoch 50/60\n",
      "117/117 - 2s - loss: 0.0122 - accuracy: 0.9966 - val_loss: 0.0852 - val_accuracy: 0.9842\n",
      "Epoch 51/60\n",
      "117/117 - 2s - loss: 0.0124 - accuracy: 0.9963 - val_loss: 0.0842 - val_accuracy: 0.9838\n",
      "Epoch 52/60\n",
      "117/117 - 2s - loss: 0.0087 - accuracy: 0.9969 - val_loss: 0.0747 - val_accuracy: 0.9872\n",
      "Epoch 53/60\n",
      "117/117 - 2s - loss: 0.0118 - accuracy: 0.9971 - val_loss: 0.0957 - val_accuracy: 0.9836\n",
      "Epoch 54/60\n",
      "117/117 - 2s - loss: 0.0126 - accuracy: 0.9963 - val_loss: 0.1033 - val_accuracy: 0.9838\n",
      "Epoch 55/60\n",
      "117/117 - 2s - loss: 0.0113 - accuracy: 0.9961 - val_loss: 0.0810 - val_accuracy: 0.9854\n",
      "Epoch 56/60\n",
      "117/117 - 2s - loss: 0.0115 - accuracy: 0.9963 - val_loss: 0.1020 - val_accuracy: 0.9846\n",
      "Epoch 57/60\n",
      "117/117 - 2s - loss: 0.0099 - accuracy: 0.9970 - val_loss: 0.0914 - val_accuracy: 0.9854\n",
      "Epoch 58/60\n",
      "117/117 - 2s - loss: 0.0079 - accuracy: 0.9975 - val_loss: 0.0913 - val_accuracy: 0.9854\n",
      "Epoch 59/60\n",
      "117/117 - 2s - loss: 0.0139 - accuracy: 0.9963 - val_loss: 0.0964 - val_accuracy: 0.9832\n",
      "Epoch 60/60\n",
      "117/117 - 2s - loss: 0.0131 - accuracy: 0.9963 - val_loss: 0.0972 - val_accuracy: 0.9836\n"
     ]
    }
   ],
   "source": [
    "history = model.fit(train_dataset,\n",
    "                    epochs=60,\n",
    "                    validation_data=validation_dataset,\n",
    "                    verbose=2)"
   ]
  },
  {
   "cell_type": "code",
   "execution_count": 14,
   "metadata": {},
   "outputs": [
    {
     "data": {
      "image/png": "[encoded data removed]",
      "text/plain": [
       "<Figure size 576x576 with 2 Axes>"
      ]
     },
     "metadata": {
      "needs_background": "light"
     },
     "output_type": "display_data"
    }
   ],
   "source": [
    "acc = history.history['accuracy']\n",
    "val_acc = history.history['val_accuracy']\n",
    "\n",
    "loss = history.history['loss']\n",
    "val_loss = history.history['val_loss']\n",
    "\n",
    "plt.figure(figsize=(8, 8))\n",
    "plt.subplot(2, 1, 1)\n",
    "plt.plot(acc, label='Training Accuracy')\n",
    "plt.plot(val_acc, label='Validation Accuracy')\n",
    "plt.legend(loc='lower right')\n",
    "plt.ylabel('Accuracy')\n",
    "plt.ylim([min(plt.ylim()),1])\n",
    "plt.title('Training and Validation Accuracy')\n",
    "\n",
    "plt.subplot(2, 1, 2)\n",
    "plt.plot(loss, label='Training Loss')\n",
    "plt.plot(val_loss, label='Validation Loss')\n",
    "plt.legend(loc='upper right')\n",
    "plt.ylabel('Cross Entropy')\n",
    "plt.ylim([0,1.0])\n",
    "plt.title('Training and Validation Loss')\n",
    "plt.xlabel('epoch')\n",
    "plt.show()"
   ]
  },
  {
   "cell_type": "code",
   "execution_count": 15,
   "metadata": {},
   "outputs": [
    {
     "name": "stdout",
     "output_type": "stream",
     "text": [
      "40/40 [==============================] - 0s 3ms/step - loss: 0.1090 - accuracy: 0.9822\n",
      "test accuracy : 0.982200026512146\n"
     ]
    }
   ],
   "source": [
    "score = model.evaluate(test_dataset)\n",
    "print('test accuracy : {}'.format(score[1]))"
   ]
  },
  {
   "cell_type": "code",
   "execution_count": 16,
   "metadata": {},
   "outputs": [],
   "source": [
    "ts = TrustScore(alpha=5e-2)\n",
    "ts.fit(enc_train_features, train_labels)"
   ]
  },
  {
   "cell_type": "code",
   "execution_count": 17,
   "metadata": {},
   "outputs": [],
   "source": [
    "predictions = model.predict(test_features)"
   ]
  },
  {
   "cell_type": "code",
   "execution_count": 18,
   "metadata": {},
   "outputs": [],
   "source": [
    "trust_scores, closest_classes = ts.score(enc_test_features,\n",
    "                                         predictions,\n",
    "                                         k=5)"
   ]
  },
  {
   "cell_type": "code",
   "execution_count": 19,
   "metadata": {},
   "outputs": [],
   "source": [
    "num_samples = 5\n",
    "index_min = np.argsort(trust_scores)[:num_samples]\n",
    "index_max = np.argsort(trust_scores)[-num_samples:]\n",
    "score_min = trust_scores[index_min]\n",
    "score_max = trust_scores[index_max]\n",
    "closest_min = closest_classes[index_min]\n",
    "closest_max = closest_classes[index_max]\n",
    "prediction_min = tf.argmax(predictions[index_min], 1)\n",
    "prediction_max = tf.argmax(predictions[index_max], 1)\n",
    "likelihood_min = tf.math.reduce_max(predictions[index_min], 1)\n",
    "likelihood_max = tf.math.reduce_max(predictions[index_max], 1)\n",
    "label_min = tf.argmax(test_labels[index_min], 1)\n",
    "label_max = tf.argmax(test_labels[index_max], 1)\n",
    "features_min = test_features[index_min]\n",
    "features_max = test_features[index_max]"
   ]
  },
  {
   "cell_type": "code",
   "execution_count": 20,
   "metadata": {},
   "outputs": [
    {
     "data": {
      "image/png": "[encoded data removed]",
      "text/plain": [
       "<Figure size 1440x288 with 5 Axes>"
      ]
     },
     "metadata": {
      "needs_background": "light"
     },
     "output_type": "display_data"
    }
   ],
   "source": [
    "plt.figure(figsize=(20, 4))\n",
    "\n",
    "for index in range(num_samples):\n",
    "    axis = plt.subplot(1, num_samples, index + 1)\n",
    "    plt.imshow(features_min[index].reshape(28, 28), cmap='gray')\n",
    "    plt.title('Model prediction : {}\\nLabel : {} ({:.3f})\\nTrust score : {:.3f}' \\\n",
    "              '\\nClosest other class : {}'.format(prediction_min.numpy()[index],\n",
    "                                                  label_min.numpy()[index],\n",
    "                                                  likelihood_min[index],\n",
    "                                                  score_min[index],\n",
    "                                                  closest_min[index]))\n",
    "    axis.get_xaxis().set_visible(False)\n",
    "    axis.get_yaxis().set_visible(False)\n",
    "plt.show()"
   ]
  },
  {
   "cell_type": "code",
   "execution_count": 21,
   "metadata": {},
   "outputs": [
    {
     "data": {
      "image/png": "[encoded data removed]",
      "text/plain": [
       "<Figure size 1440x288 with 5 Axes>"
      ]
     },
     "metadata": {
      "needs_background": "light"
     },
     "output_type": "display_data"
    }
   ],
   "source": [
    "plt.figure(figsize=(20, 4))\n",
    "\n",
    "for index in range(num_samples):\n",
    "    axis = plt.subplot(1, num_samples, index + 1)\n",
    "    plt.imshow(features_max[index].reshape(28, 28), cmap='gray')\n",
    "    plt.title('Model prediction : {}\\nLabel : {} ({:.3f})\\nTrust score : {:.3f}' \\\n",
    "              '\\nClosest other class : {}'.format(prediction_max.numpy()[index],\n",
    "                                                  label_max.numpy()[index],\n",
    "                                                  likelihood_max[index],\n",
    "                                                  score_max[index],\n",
    "                                                  closest_max[index]))\n",
    "    axis.get_xaxis().set_visible(False)\n",
    "    axis.get_yaxis().set_visible(False)\n",
    "plt.show()"
   ]
  },
  {
   "cell_type": "code",
   "execution_count": 22,
   "metadata": {},
   "outputs": [],
   "source": [
    "percentiles = [0 + 0.5 * index for index in range(200)]\n",
    "num_fold = 5\n",
    "plt_names = ['Model Confidence', 'Trust Score']"
   ]
  },
  {
   "cell_type": "code",
   "execution_count": 26,
   "metadata": {},
   "outputs": [
    {
     "data": {
      "image/png": "[encoded data removed]",
      "text/plain": [
       "<Figure size 432x288 with 1 Axes>"
      ]
     },
     "metadata": {
      "needs_background": "light"
     },
     "output_type": "display_data"
    }
   ],
   "source": [
    "run_precision_plt(train_features.numpy(),\n",
    "                  train_labels,\n",
    "                  num_fold,\n",
    "                  percentiles,\n",
    "                  run_model,\n",
    "                  plt_title='',\n",
    "                  plt_names=plt_names,\n",
    "                  predict_correct=True,\n",
    "                  model=model)"
   ]
  },
  {
   "cell_type": "code",
   "execution_count": 25,
   "metadata": {},
   "outputs": [],
   "source": [
    "model.save_weights('saved_model/mnist-perturbed/lenet/1', save_format='tf')"
   ]
  }
 ],
 "metadata": {
  "kernelspec": {
   "display_name": "Python 3",
   "language": "python",
   "name": "python3"
  },
  "language_info": {
   "codemirror_mode": {
    "name": "ipython",
    "version": 3
   },
   "file_extension": ".py",
   "mimetype": "text/x-python",
   "name": "python",
   "nbconvert_exporter": "python",
   "pygments_lexer": "ipython3",
   "version": "3.6.7"
  }
 },
 "nbformat": 4,
 "nbformat_minor": 2
}
