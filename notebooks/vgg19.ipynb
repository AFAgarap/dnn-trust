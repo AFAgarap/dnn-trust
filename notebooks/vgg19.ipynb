{
  "nbformat": 4,
  "nbformat_minor": 0,
  "metadata": {
    "colab": {
      "name": "vgg19.ipynb",
      "version": "0.3.2",
      "provenance": [],
      "collapsed_sections": [],
      "include_colab_link": true
    },
    "kernelspec": {
      "name": "python3",
      "display_name": "Python 3"
    },
    "accelerator": "GPU"
  },
  "cells": [
    {
      "cell_type": "markdown",
      "metadata": {
        "id": "view-in-github",
        "colab_type": "text"
      },
      "source": [
        "<a href=\"https://colab.research.google.com/github/AFAgarap/dnn-trust/blob/master/notebooks/vgg19.ipynb\" target=\"_parent\"><img src=\"https://colab.research.google.com/assets/colab-badge.svg\" alt=\"Open In Colab\"/></a>"
      ]
    },
    {
      "cell_type": "code",
      "metadata": {
        "id": "lUXQT07nyBFr",
        "colab_type": "code",
        "colab": {}
      },
      "source": [
        "!git clone https://github.com/SeldonIO/alibi\n",
        "!mv alibi/alibi/confidence/trustscore.py trustscore.py\n",
        "!pip install --quiet tensorflow-gpu==2.0.0-beta1"
      ],
      "execution_count": 0,
      "outputs": []
    },
    {
      "cell_type": "code",
      "metadata": {
        "id": "lThBeh0Jx2hb",
        "colab_type": "code",
        "colab": {}
      },
      "source": [
        "from __future__ import absolute_import, division, print_function\n",
        "\n",
        "__version__ = '1.0.0'\n",
        "\n",
        "import matplotlib.pyplot as plt\n",
        "import numpy as np\n",
        "from sklearn.model_selection import train_test_split\n",
        "import tensorflow as tf\n",
        "from trustscore import TrustScore\n",
        "assert tf.__version__.startswith('2')"
      ],
      "execution_count": 0,
      "outputs": []
    },
    {
      "cell_type": "code",
      "metadata": {
        "id": "R5KYlGJkyVAF",
        "colab_type": "code",
        "colab": {}
      },
      "source": [
        "tf.config.experimental.set_memory_growth(\n",
        "    tf.config.experimental.list_physical_devices('GPU')[0], True\n",
        ")"
      ],
      "execution_count": 0,
      "outputs": []
    },
    {
      "cell_type": "code",
      "metadata": {
        "id": "rCUCw5bByat2",
        "colab_type": "code",
        "colab": {}
      },
      "source": [
        "tf.random.set_seed(42)\n",
        "np.random.seed(42)"
      ],
      "execution_count": 0,
      "outputs": []
    },
    {
      "cell_type": "code",
      "metadata": {
        "id": "FfWE9UFGydq_",
        "colab_type": "code",
        "colab": {}
      },
      "source": [
        "BATCH_SIZE = 512\n",
        "SHUFFLE_BUFFER_SIZE = 1000\n",
        "WIDTH = 32\n",
        "HEIGHT = 32\n",
        "NUM_CHANNELS = 3"
      ],
      "execution_count": 0,
      "outputs": []
    },
    {
      "cell_type": "code",
      "metadata": {
        "id": "bWT9Frz1y28a",
        "colab_type": "code",
        "colab": {}
      },
      "source": [
        "def augment(image, label):\n",
        "  image = tf.image.resize_with_crop_or_pad(\n",
        "      image, HEIGHT + 8, WIDTH + 8)\n",
        "  image = tf.image.random_crop(image, [HEIGHT, WIDTH, NUM_CHANNELS])\n",
        "  image = tf.image.random_flip_left_right(image)\n",
        "  return image, label"
      ],
      "execution_count": 0,
      "outputs": []
    },
    {
      "cell_type": "code",
      "metadata": {
        "id": "a7mogXHey4yH",
        "colab_type": "code",
        "colab": {}
      },
      "source": [
        "cifar_train, cifar_test = tf.keras.datasets.cifar10.load_data()\n",
        "\n",
        "train_features, train_labels = cifar_train\n",
        "test_features, test_labels = cifar_test\n",
        "\n",
        "train_features = train_features.astype('float32') / 255.\n",
        "test_features = test_features.astype('float32') / 255.\n",
        "\n",
        "test_features = test_features.reshape(-1, 3072)\n",
        "\n",
        "validation_features, test_features, validation_labels, test_labels = \\\n",
        "train_test_split(test_features,\n",
        "                 test_labels,\n",
        "                 test_size=0.50,\n",
        "                 stratify=test_labels)\n",
        "\n",
        "validation_features = validation_features.reshape(-1, 32, 32, 3)\n",
        "test_features = test_features.reshape(-1, 32, 32, 3)"
      ],
      "execution_count": 0,
      "outputs": []
    },
    {
      "cell_type": "code",
      "metadata": {
        "id": "GD1tI6nGy7I4",
        "colab_type": "code",
        "outputId": "15ff2a61-b461-4fa1-f1a8-bb14e6e8767e",
        "colab": {
          "base_uri": "https://localhost:8080/",
          "height": 105
        }
      },
      "source": [
        "train_dataset = tf.data.Dataset.from_tensor_slices(\n",
        "    (train_features, train_labels)\n",
        ")\n",
        "train_dataset = train_dataset.map(augment)\n",
        "train_dataset = train_dataset.prefetch(tf.data.experimental.AUTOTUNE)\n",
        "train_dataset = train_dataset.shuffle(SHUFFLE_BUFFER_SIZE)\n",
        "train_dataset = train_dataset.batch(BATCH_SIZE, True)\n",
        "\n",
        "validation_dataset = tf.data.Dataset.from_tensor_slices(\n",
        "    (validation_features, validation_labels)\n",
        ")\n",
        "validation_dataset = validation_dataset.batch(BATCH_SIZE)\n",
        "\n",
        "test_dataset = tf.data.Dataset.from_tensor_slices(\n",
        "    (test_features, test_labels)\n",
        ")\n",
        "test_dataset = test_dataset.batch(BATCH_SIZE)"
      ],
      "execution_count": 0,
      "outputs": [
        {
          "output_type": "stream",
          "text": [
            "WARNING: Logging before flag parsing goes to stderr.\n",
            "W0826 12:06:39.741617 140241747715968 deprecation.py:323] From /usr/local/lib/python3.6/dist-packages/tensorflow/python/data/util/random_seed.py:58: add_dispatch_support.<locals>.wrapper (from tensorflow.python.ops.array_ops) is deprecated and will be removed in a future version.\n",
            "Instructions for updating:\n",
            "Use tf.where in 2.0, which has the same broadcast rule as np.where\n"
          ],
          "name": "stderr"
        }
      ]
    },
    {
      "cell_type": "code",
      "metadata": {
        "id": "XUo6rZg4y8sE",
        "colab_type": "code",
        "outputId": "d778a7d8-e964-4120-dc16-ef613f06dd1c",
        "colab": {
          "base_uri": "https://localhost:8080/",
          "height": 51
        }
      },
      "source": [
        "IMAGE_SHAPE = (HEIGHT, WIDTH, NUM_CHANNELS)\n",
        "\n",
        "base_model = tf.keras.applications.VGG19(input_shape=IMAGE_SHAPE,\n",
        "                                         include_top=False,\n",
        "                                         weights='imagenet')"
      ],
      "execution_count": 0,
      "outputs": [
        {
          "output_type": "stream",
          "text": [
            "Downloading data from https://github.com/fchollet/deep-learning-models/releases/download/v0.1/vgg19_weights_tf_dim_ordering_tf_kernels_notop.h5\n",
            "80142336/80134624 [==============================] - 1s 0us/step\n"
          ],
          "name": "stdout"
        }
      ]
    },
    {
      "cell_type": "code",
      "metadata": {
        "id": "mtVL4LUAzLAj",
        "colab_type": "code",
        "outputId": "37000d8d-f91f-48d9-a567-49c3c74367e3",
        "colab": {
          "base_uri": "https://localhost:8080/",
          "height": 34
        }
      },
      "source": [
        "feature_batch = base_model(train_features[:BATCH_SIZE])\n",
        "print(feature_batch.shape)"
      ],
      "execution_count": 0,
      "outputs": [
        {
          "output_type": "stream",
          "text": [
            "(512, 1, 1, 512)\n"
          ],
          "name": "stdout"
        }
      ]
    },
    {
      "cell_type": "code",
      "metadata": {
        "id": "d-L-tx0tzqaK",
        "colab_type": "code",
        "outputId": "036cd28c-91f4-4974-b055-a117059167b7",
        "colab": {
          "base_uri": "https://localhost:8080/",
          "height": 901
        }
      },
      "source": [
        "base_model.summary()"
      ],
      "execution_count": 0,
      "outputs": [
        {
          "output_type": "stream",
          "text": [
            "Model: \"vgg19\"\n",
            "_________________________________________________________________\n",
            "Layer (type)                 Output Shape              Param #   \n",
            "=================================================================\n",
            "input_1 (InputLayer)         [(None, 32, 32, 3)]       0         \n",
            "_________________________________________________________________\n",
            "block1_conv1 (Conv2D)        (None, 32, 32, 64)        1792      \n",
            "_________________________________________________________________\n",
            "block1_conv2 (Conv2D)        (None, 32, 32, 64)        36928     \n",
            "_________________________________________________________________\n",
            "block1_pool (MaxPooling2D)   (None, 16, 16, 64)        0         \n",
            "_________________________________________________________________\n",
            "block2_conv1 (Conv2D)        (None, 16, 16, 128)       73856     \n",
            "_________________________________________________________________\n",
            "block2_conv2 (Conv2D)        (None, 16, 16, 128)       147584    \n",
            "_________________________________________________________________\n",
            "block2_pool (MaxPooling2D)   (None, 8, 8, 128)         0         \n",
            "_________________________________________________________________\n",
            "block3_conv1 (Conv2D)        (None, 8, 8, 256)         295168    \n",
            "_________________________________________________________________\n",
            "block3_conv2 (Conv2D)        (None, 8, 8, 256)         590080    \n",
            "_________________________________________________________________\n",
            "block3_conv3 (Conv2D)        (None, 8, 8, 256)         590080    \n",
            "_________________________________________________________________\n",
            "block3_conv4 (Conv2D)        (None, 8, 8, 256)         590080    \n",
            "_________________________________________________________________\n",
            "block3_pool (MaxPooling2D)   (None, 4, 4, 256)         0         \n",
            "_________________________________________________________________\n",
            "block4_conv1 (Conv2D)        (None, 4, 4, 512)         1180160   \n",
            "_________________________________________________________________\n",
            "block4_conv2 (Conv2D)        (None, 4, 4, 512)         2359808   \n",
            "_________________________________________________________________\n",
            "block4_conv3 (Conv2D)        (None, 4, 4, 512)         2359808   \n",
            "_________________________________________________________________\n",
            "block4_conv4 (Conv2D)        (None, 4, 4, 512)         2359808   \n",
            "_________________________________________________________________\n",
            "block4_pool (MaxPooling2D)   (None, 2, 2, 512)         0         \n",
            "_________________________________________________________________\n",
            "block5_conv1 (Conv2D)        (None, 2, 2, 512)         2359808   \n",
            "_________________________________________________________________\n",
            "block5_conv2 (Conv2D)        (None, 2, 2, 512)         2359808   \n",
            "_________________________________________________________________\n",
            "block5_conv3 (Conv2D)        (None, 2, 2, 512)         2359808   \n",
            "_________________________________________________________________\n",
            "block5_conv4 (Conv2D)        (None, 2, 2, 512)         2359808   \n",
            "_________________________________________________________________\n",
            "block5_pool (MaxPooling2D)   (None, 1, 1, 512)         0         \n",
            "=================================================================\n",
            "Total params: 20,024,384\n",
            "Trainable params: 20,024,384\n",
            "Non-trainable params: 0\n",
            "_________________________________________________________________\n"
          ],
          "name": "stdout"
        }
      ]
    },
    {
      "cell_type": "code",
      "metadata": {
        "id": "XMlkT5ALzuYG",
        "colab_type": "code",
        "outputId": "9145ab74-28a2-4c9f-df66-833f4cb1b638",
        "colab": {
          "base_uri": "https://localhost:8080/",
          "height": 153
        }
      },
      "source": [
        "global_average_layer = tf.keras.layers.GlobalAveragePooling2D()\n",
        "feature_batch_average = global_average_layer(feature_batch)\n",
        "\n",
        "prediction_layer = tf.keras.layers.Dense(units=10, activation=tf.nn.softmax)\n",
        "prediction_batch = prediction_layer(feature_batch_average)\n",
        "print(prediction_batch)"
      ],
      "execution_count": 0,
      "outputs": [
        {
          "output_type": "stream",
          "text": [
            "tf.Tensor(\n",
            "[[0.0216463  0.08033232 0.40721476 ... 0.01459417 0.03780489 0.08309604]\n",
            " [0.03804562 0.05341599 0.25658566 ... 0.0247529  0.06204376 0.05434116]\n",
            " [0.02194073 0.11415412 0.1449871  ... 0.00784773 0.07999802 0.09971072]\n",
            " ...\n",
            " [0.03363598 0.10062511 0.26181102 ... 0.01519949 0.05915058 0.07242489]\n",
            " [0.01251008 0.05755862 0.3901712  ... 0.012837   0.03504407 0.08113118]\n",
            " [0.01350004 0.05506084 0.1529822  ... 0.01754216 0.05939902 0.0535138 ]], shape=(512, 10), dtype=float32)\n"
          ],
          "name": "stdout"
        }
      ]
    },
    {
      "cell_type": "code",
      "metadata": {
        "id": "pk5BJZpSz11U",
        "colab_type": "code",
        "colab": {}
      },
      "source": [
        "model = tf.keras.Sequential([\n",
        "    base_model,\n",
        "    global_average_layer,\n",
        "    prediction_layer\n",
        "])"
      ],
      "execution_count": 0,
      "outputs": []
    },
    {
      "cell_type": "code",
      "metadata": {
        "id": "WFMhWiRzz4ip",
        "colab_type": "code",
        "colab": {}
      },
      "source": [
        "learning_rate = 1e-4\n",
        "model.compile(optimizer=tf.optimizers.RMSprop(learning_rate),\n",
        "              loss=tf.losses.sparse_categorical_crossentropy,\n",
        "              metrics=['sparse_categorical_accuracy'])"
      ],
      "execution_count": 0,
      "outputs": []
    },
    {
      "cell_type": "code",
      "metadata": {
        "id": "2q70la5Nz6T9",
        "colab_type": "code",
        "outputId": "ae175cb0-c193-475a-c0be-db1ed62f7e05",
        "colab": {
          "base_uri": "https://localhost:8080/",
          "height": 255
        }
      },
      "source": [
        "model.summary()"
      ],
      "execution_count": 0,
      "outputs": [
        {
          "output_type": "stream",
          "text": [
            "Model: \"sequential\"\n",
            "_________________________________________________________________\n",
            "Layer (type)                 Output Shape              Param #   \n",
            "=================================================================\n",
            "vgg19 (Model)                (None, 1, 1, 512)         20024384  \n",
            "_________________________________________________________________\n",
            "global_average_pooling2d (Gl (None, 512)               0         \n",
            "_________________________________________________________________\n",
            "dense (Dense)                (None, 10)                5130      \n",
            "=================================================================\n",
            "Total params: 20,029,514\n",
            "Trainable params: 20,029,514\n",
            "Non-trainable params: 0\n",
            "_________________________________________________________________\n"
          ],
          "name": "stdout"
        }
      ]
    },
    {
      "cell_type": "code",
      "metadata": {
        "id": "oP_4gVQcz8SV",
        "colab_type": "code",
        "outputId": "26afa51c-5359-4e5e-a24d-f4504c605639",
        "colab": {
          "base_uri": "https://localhost:8080/",
          "height": 54
        }
      },
      "source": [
        "epochs = 100\n",
        "\n",
        "validation_steps = 20\n",
        "\n",
        "loss_0, accuracy_0 = model.evaluate(validation_dataset, steps=validation_steps)"
      ],
      "execution_count": 0,
      "outputs": [
        {
          "output_type": "stream",
          "text": [
            "10/20 [==============>...............] - ETA: 2s - loss: 2.8148 - sparse_categorical_accuracy: 0.0974"
          ],
          "name": "stdout"
        },
        {
          "output_type": "stream",
          "text": [
            "W0826 12:07:27.822090 140241747715968 training_generator.py:235] Your dataset ran out of data; interrupting training. Make sure that your dataset can generate at least `steps * epochs` batches (in this case, 20 batches). You may need to use the repeat() function when building your dataset.\n"
          ],
          "name": "stderr"
        }
      ]
    },
    {
      "cell_type": "code",
      "metadata": {
        "id": "HsI6XxzIz-P0",
        "colab_type": "code",
        "outputId": "1de82b48-a992-45cb-8d15-0fa7e509aef7",
        "colab": {
          "base_uri": "https://localhost:8080/",
          "height": 1000
        }
      },
      "source": [
        "history = model.fit(train_dataset,\n",
        "                    epochs=epochs,\n",
        "                    validation_data=validation_dataset)"
      ],
      "execution_count": 0,
      "outputs": [
        {
          "output_type": "stream",
          "text": [
            "Epoch 1/100\n",
            "97/97 [==============================] - 29s 301ms/step - loss: 2.0706 - sparse_categorical_accuracy: 0.2450 - val_loss: 1.9318 - val_sparse_categorical_accuracy: 0.2960\n",
            "Epoch 2/100\n",
            "97/97 [==============================] - 25s 255ms/step - loss: 1.4611 - sparse_categorical_accuracy: 0.4865 - val_loss: 1.2122 - val_sparse_categorical_accuracy: 0.5774\n",
            "Epoch 3/100\n",
            "97/97 [==============================] - 25s 257ms/step - loss: 1.1503 - sparse_categorical_accuracy: 0.6051 - val_loss: 1.1637 - val_sparse_categorical_accuracy: 0.6172\n",
            "Epoch 4/100\n",
            "97/97 [==============================] - 24s 252ms/step - loss: 0.9761 - sparse_categorical_accuracy: 0.6678 - val_loss: 0.8414 - val_sparse_categorical_accuracy: 0.7114\n",
            "Epoch 5/100\n",
            "97/97 [==============================] - 25s 253ms/step - loss: 0.8389 - sparse_categorical_accuracy: 0.7138 - val_loss: 0.7188 - val_sparse_categorical_accuracy: 0.7560\n",
            "Epoch 6/100\n",
            "97/97 [==============================] - 25s 258ms/step - loss: 0.7529 - sparse_categorical_accuracy: 0.7448 - val_loss: 0.8384 - val_sparse_categorical_accuracy: 0.7194\n",
            "Epoch 7/100\n",
            "97/97 [==============================] - 25s 253ms/step - loss: 0.6701 - sparse_categorical_accuracy: 0.7728 - val_loss: 0.7293 - val_sparse_categorical_accuracy: 0.7468\n",
            "Epoch 8/100\n",
            "97/97 [==============================] - 25s 256ms/step - loss: 0.5857 - sparse_categorical_accuracy: 0.7996 - val_loss: 0.7470 - val_sparse_categorical_accuracy: 0.7562\n",
            "Epoch 9/100\n",
            "97/97 [==============================] - 25s 256ms/step - loss: 0.5297 - sparse_categorical_accuracy: 0.8194 - val_loss: 0.7382 - val_sparse_categorical_accuracy: 0.7598\n",
            "Epoch 10/100\n",
            "97/97 [==============================] - 25s 256ms/step - loss: 0.4683 - sparse_categorical_accuracy: 0.8394 - val_loss: 0.7172 - val_sparse_categorical_accuracy: 0.7864\n",
            "Epoch 11/100\n",
            "97/97 [==============================] - 25s 254ms/step - loss: 0.4151 - sparse_categorical_accuracy: 0.8592 - val_loss: 0.8493 - val_sparse_categorical_accuracy: 0.7444\n",
            "Epoch 12/100\n",
            "97/97 [==============================] - 25s 254ms/step - loss: 0.3730 - sparse_categorical_accuracy: 0.8731 - val_loss: 0.6616 - val_sparse_categorical_accuracy: 0.7992\n",
            "Epoch 13/100\n",
            "97/97 [==============================] - 25s 254ms/step - loss: 0.3098 - sparse_categorical_accuracy: 0.8958 - val_loss: 0.7146 - val_sparse_categorical_accuracy: 0.7978\n",
            "Epoch 14/100\n",
            "97/97 [==============================] - 24s 252ms/step - loss: 0.2733 - sparse_categorical_accuracy: 0.9083 - val_loss: 0.8299 - val_sparse_categorical_accuracy: 0.7930\n",
            "Epoch 15/100\n",
            "97/97 [==============================] - 25s 255ms/step - loss: 0.2441 - sparse_categorical_accuracy: 0.9206 - val_loss: 0.6721 - val_sparse_categorical_accuracy: 0.8108\n",
            "Epoch 16/100\n",
            "97/97 [==============================] - 24s 252ms/step - loss: 0.1952 - sparse_categorical_accuracy: 0.9335 - val_loss: 0.8026 - val_sparse_categorical_accuracy: 0.8024\n",
            "Epoch 17/100\n",
            "97/97 [==============================] - 25s 256ms/step - loss: 0.1868 - sparse_categorical_accuracy: 0.9414 - val_loss: 0.6592 - val_sparse_categorical_accuracy: 0.8282\n",
            "Epoch 18/100\n",
            "97/97 [==============================] - 25s 254ms/step - loss: 0.1544 - sparse_categorical_accuracy: 0.9500 - val_loss: 1.3975 - val_sparse_categorical_accuracy: 0.7228\n",
            "Epoch 19/100\n",
            "97/97 [==============================] - 25s 254ms/step - loss: 0.1611 - sparse_categorical_accuracy: 0.9515 - val_loss: 0.8334 - val_sparse_categorical_accuracy: 0.8174\n",
            "Epoch 20/100\n",
            "97/97 [==============================] - 24s 252ms/step - loss: 0.1765 - sparse_categorical_accuracy: 0.9508 - val_loss: 0.6157 - val_sparse_categorical_accuracy: 0.8228\n",
            "Epoch 21/100\n",
            "97/97 [==============================] - 24s 251ms/step - loss: 0.1131 - sparse_categorical_accuracy: 0.9685 - val_loss: 1.5058 - val_sparse_categorical_accuracy: 0.7370\n",
            "Epoch 22/100\n",
            "97/97 [==============================] - 24s 251ms/step - loss: 0.1485 - sparse_categorical_accuracy: 0.9616 - val_loss: 0.8270 - val_sparse_categorical_accuracy: 0.8258\n",
            "Epoch 23/100\n",
            "97/97 [==============================] - 24s 252ms/step - loss: 0.1333 - sparse_categorical_accuracy: 0.9649 - val_loss: 0.7871 - val_sparse_categorical_accuracy: 0.8322\n",
            "Epoch 24/100\n",
            "97/97 [==============================] - 25s 254ms/step - loss: 0.0973 - sparse_categorical_accuracy: 0.9746 - val_loss: 0.9281 - val_sparse_categorical_accuracy: 0.8124\n",
            "Epoch 25/100\n",
            "97/97 [==============================] - 24s 252ms/step - loss: 0.1194 - sparse_categorical_accuracy: 0.9690 - val_loss: 1.1989 - val_sparse_categorical_accuracy: 0.7144\n",
            "Epoch 26/100\n",
            "97/97 [==============================] - 24s 250ms/step - loss: 0.1289 - sparse_categorical_accuracy: 0.9687 - val_loss: 0.7961 - val_sparse_categorical_accuracy: 0.8010\n",
            "Epoch 27/100\n",
            "97/97 [==============================] - 24s 248ms/step - loss: 0.1042 - sparse_categorical_accuracy: 0.9733 - val_loss: 0.8183 - val_sparse_categorical_accuracy: 0.8300\n",
            "Epoch 28/100\n",
            "97/97 [==============================] - 25s 253ms/step - loss: 0.1080 - sparse_categorical_accuracy: 0.9722 - val_loss: 1.1128 - val_sparse_categorical_accuracy: 0.8100\n",
            "Epoch 29/100\n",
            "97/97 [==============================] - 24s 252ms/step - loss: 0.1026 - sparse_categorical_accuracy: 0.9723 - val_loss: 0.9323 - val_sparse_categorical_accuracy: 0.8318\n",
            "Epoch 30/100\n",
            "97/97 [==============================] - 24s 252ms/step - loss: 0.1080 - sparse_categorical_accuracy: 0.9738 - val_loss: 0.8173 - val_sparse_categorical_accuracy: 0.8270\n",
            "Epoch 31/100\n",
            "97/97 [==============================] - 24s 248ms/step - loss: 0.0991 - sparse_categorical_accuracy: 0.9746 - val_loss: 0.8808 - val_sparse_categorical_accuracy: 0.8342\n",
            "Epoch 32/100\n",
            "97/97 [==============================] - 25s 253ms/step - loss: 0.0997 - sparse_categorical_accuracy: 0.9738 - val_loss: 0.7826 - val_sparse_categorical_accuracy: 0.8324\n",
            "Epoch 33/100\n",
            "97/97 [==============================] - 24s 249ms/step - loss: 0.0923 - sparse_categorical_accuracy: 0.9762 - val_loss: 0.7920 - val_sparse_categorical_accuracy: 0.8360\n",
            "Epoch 34/100\n",
            "97/97 [==============================] - 24s 247ms/step - loss: 0.0951 - sparse_categorical_accuracy: 0.9767 - val_loss: 0.7840 - val_sparse_categorical_accuracy: 0.8402\n",
            "Epoch 35/100\n",
            "97/97 [==============================] - 24s 250ms/step - loss: 0.0792 - sparse_categorical_accuracy: 0.9787 - val_loss: 0.7697 - val_sparse_categorical_accuracy: 0.8276\n",
            "Epoch 36/100\n",
            "97/97 [==============================] - 24s 250ms/step - loss: 0.0619 - sparse_categorical_accuracy: 0.9840 - val_loss: 0.9892 - val_sparse_categorical_accuracy: 0.8114\n",
            "Epoch 37/100\n",
            "97/97 [==============================] - 24s 252ms/step - loss: 0.0788 - sparse_categorical_accuracy: 0.9800 - val_loss: 1.0668 - val_sparse_categorical_accuracy: 0.8216\n",
            "Epoch 38/100\n",
            "97/97 [==============================] - 24s 250ms/step - loss: 0.0932 - sparse_categorical_accuracy: 0.9771 - val_loss: 0.9105 - val_sparse_categorical_accuracy: 0.8366\n",
            "Epoch 39/100\n",
            "97/97 [==============================] - 24s 248ms/step - loss: 0.0984 - sparse_categorical_accuracy: 0.9763 - val_loss: 0.9156 - val_sparse_categorical_accuracy: 0.8370\n",
            "Epoch 40/100\n",
            "97/97 [==============================] - 24s 251ms/step - loss: 0.1118 - sparse_categorical_accuracy: 0.9739 - val_loss: 0.8895 - val_sparse_categorical_accuracy: 0.8352\n",
            "Epoch 41/100\n",
            "97/97 [==============================] - 24s 248ms/step - loss: 0.0801 - sparse_categorical_accuracy: 0.9816 - val_loss: 1.5032 - val_sparse_categorical_accuracy: 0.6592\n",
            "Epoch 42/100\n",
            "97/97 [==============================] - 24s 249ms/step - loss: 0.1009 - sparse_categorical_accuracy: 0.9752 - val_loss: 0.9632 - val_sparse_categorical_accuracy: 0.8354\n",
            "Epoch 43/100\n",
            "97/97 [==============================] - 24s 247ms/step - loss: 0.0621 - sparse_categorical_accuracy: 0.9845 - val_loss: 1.0473 - val_sparse_categorical_accuracy: 0.8320\n",
            "Epoch 44/100\n",
            "97/97 [==============================] - 24s 249ms/step - loss: 0.0790 - sparse_categorical_accuracy: 0.9789 - val_loss: 0.9586 - val_sparse_categorical_accuracy: 0.8378\n",
            "Epoch 45/100\n",
            "97/97 [==============================] - 24s 248ms/step - loss: 0.0619 - sparse_categorical_accuracy: 0.9849 - val_loss: 1.7777 - val_sparse_categorical_accuracy: 0.7546\n",
            "Epoch 46/100\n",
            "97/97 [==============================] - 24s 249ms/step - loss: 0.1022 - sparse_categorical_accuracy: 0.9763 - val_loss: 0.9122 - val_sparse_categorical_accuracy: 0.8302\n",
            "Epoch 47/100\n",
            "97/97 [==============================] - 24s 247ms/step - loss: 0.0942 - sparse_categorical_accuracy: 0.9774 - val_loss: 0.7381 - val_sparse_categorical_accuracy: 0.8328\n",
            "Epoch 48/100\n",
            "97/97 [==============================] - 24s 250ms/step - loss: 0.0780 - sparse_categorical_accuracy: 0.9810 - val_loss: 1.0811 - val_sparse_categorical_accuracy: 0.8408\n",
            "Epoch 49/100\n",
            "97/97 [==============================] - 24s 247ms/step - loss: 0.1011 - sparse_categorical_accuracy: 0.9759 - val_loss: 0.8624 - val_sparse_categorical_accuracy: 0.8436\n",
            "Epoch 50/100\n",
            "97/97 [==============================] - 24s 247ms/step - loss: 0.0708 - sparse_categorical_accuracy: 0.9826 - val_loss: 1.0183 - val_sparse_categorical_accuracy: 0.8362\n",
            "Epoch 51/100\n",
            "97/97 [==============================] - 24s 248ms/step - loss: 0.1022 - sparse_categorical_accuracy: 0.9760 - val_loss: 0.8365 - val_sparse_categorical_accuracy: 0.8300\n",
            "Epoch 52/100\n",
            "97/97 [==============================] - 24s 250ms/step - loss: 0.0826 - sparse_categorical_accuracy: 0.9794 - val_loss: 0.8998 - val_sparse_categorical_accuracy: 0.8410\n",
            "Epoch 53/100\n",
            "97/97 [==============================] - 24s 249ms/step - loss: 0.0887 - sparse_categorical_accuracy: 0.9780 - val_loss: 0.8282 - val_sparse_categorical_accuracy: 0.8336\n",
            "Epoch 54/100\n",
            "97/97 [==============================] - 24s 249ms/step - loss: 0.0790 - sparse_categorical_accuracy: 0.9812 - val_loss: 0.8373 - val_sparse_categorical_accuracy: 0.8334\n",
            "Epoch 55/100\n",
            "97/97 [==============================] - 24s 250ms/step - loss: 0.0762 - sparse_categorical_accuracy: 0.9818 - val_loss: 0.8447 - val_sparse_categorical_accuracy: 0.8290\n",
            "Epoch 56/100\n",
            "97/97 [==============================] - 24s 248ms/step - loss: 0.0520 - sparse_categorical_accuracy: 0.9876 - val_loss: 1.1826 - val_sparse_categorical_accuracy: 0.8412\n",
            "Epoch 57/100\n",
            "97/97 [==============================] - 24s 246ms/step - loss: 0.1103 - sparse_categorical_accuracy: 0.9733 - val_loss: 0.9631 - val_sparse_categorical_accuracy: 0.8436\n",
            "Epoch 58/100\n",
            "97/97 [==============================] - 24s 248ms/step - loss: 0.0745 - sparse_categorical_accuracy: 0.9840 - val_loss: 0.8581 - val_sparse_categorical_accuracy: 0.8400\n",
            "Epoch 59/100\n",
            "97/97 [==============================] - 24s 248ms/step - loss: 0.0856 - sparse_categorical_accuracy: 0.9811 - val_loss: 0.9636 - val_sparse_categorical_accuracy: 0.8392\n",
            "Epoch 60/100\n",
            "97/97 [==============================] - 24s 248ms/step - loss: 0.0744 - sparse_categorical_accuracy: 0.9825 - val_loss: 1.0408 - val_sparse_categorical_accuracy: 0.8464\n",
            "Epoch 61/100\n",
            "97/97 [==============================] - 24s 244ms/step - loss: 0.1020 - sparse_categorical_accuracy: 0.9766 - val_loss: 0.9096 - val_sparse_categorical_accuracy: 0.8400\n",
            "Epoch 62/100\n",
            "97/97 [==============================] - 24s 248ms/step - loss: 0.0723 - sparse_categorical_accuracy: 0.9836 - val_loss: 1.0807 - val_sparse_categorical_accuracy: 0.8436\n",
            "Epoch 63/100\n",
            "97/97 [==============================] - 24s 250ms/step - loss: 0.0839 - sparse_categorical_accuracy: 0.9805 - val_loss: 1.2113 - val_sparse_categorical_accuracy: 0.7894\n",
            "Epoch 64/100\n",
            "97/97 [==============================] - 24s 246ms/step - loss: 0.0658 - sparse_categorical_accuracy: 0.9842 - val_loss: 1.0434 - val_sparse_categorical_accuracy: 0.8452\n",
            "Epoch 65/100\n",
            "97/97 [==============================] - 24s 249ms/step - loss: 0.0740 - sparse_categorical_accuracy: 0.9830 - val_loss: 1.0503 - val_sparse_categorical_accuracy: 0.8344\n",
            "Epoch 66/100\n",
            "97/97 [==============================] - 24s 248ms/step - loss: 0.0837 - sparse_categorical_accuracy: 0.9814 - val_loss: 1.0716 - val_sparse_categorical_accuracy: 0.8328\n",
            "Epoch 67/100\n",
            "97/97 [==============================] - 24s 245ms/step - loss: 0.0656 - sparse_categorical_accuracy: 0.9865 - val_loss: 1.2558 - val_sparse_categorical_accuracy: 0.8344\n",
            "Epoch 68/100\n",
            "97/97 [==============================] - 24s 247ms/step - loss: 0.0837 - sparse_categorical_accuracy: 0.9818 - val_loss: 0.8465 - val_sparse_categorical_accuracy: 0.8380\n",
            "Epoch 69/100\n",
            "97/97 [==============================] - 24s 246ms/step - loss: 0.0651 - sparse_categorical_accuracy: 0.9842 - val_loss: 0.8986 - val_sparse_categorical_accuracy: 0.8402\n",
            "Epoch 70/100\n",
            "97/97 [==============================] - 24s 245ms/step - loss: 0.0574 - sparse_categorical_accuracy: 0.9874 - val_loss: 1.5198 - val_sparse_categorical_accuracy: 0.7716\n",
            "Epoch 71/100\n",
            "97/97 [==============================] - 24s 245ms/step - loss: 0.0572 - sparse_categorical_accuracy: 0.9861 - val_loss: 1.0579 - val_sparse_categorical_accuracy: 0.8284\n",
            "Epoch 72/100\n",
            "97/97 [==============================] - 24s 242ms/step - loss: 0.0581 - sparse_categorical_accuracy: 0.9870 - val_loss: 1.1163 - val_sparse_categorical_accuracy: 0.8258\n",
            "Epoch 73/100\n",
            "97/97 [==============================] - 24s 247ms/step - loss: 0.0811 - sparse_categorical_accuracy: 0.9835 - val_loss: 0.8805 - val_sparse_categorical_accuracy: 0.8406\n",
            "Epoch 74/100\n",
            "97/97 [==============================] - 24s 248ms/step - loss: 0.0546 - sparse_categorical_accuracy: 0.9872 - val_loss: 0.8834 - val_sparse_categorical_accuracy: 0.8446\n",
            "Epoch 75/100\n",
            "97/97 [==============================] - 24s 244ms/step - loss: 0.0511 - sparse_categorical_accuracy: 0.9893 - val_loss: 1.2752 - val_sparse_categorical_accuracy: 0.8294\n",
            "Epoch 76/100\n",
            "97/97 [==============================] - 24s 246ms/step - loss: 0.0779 - sparse_categorical_accuracy: 0.9826 - val_loss: 1.0397 - val_sparse_categorical_accuracy: 0.8472\n",
            "Epoch 77/100\n",
            "97/97 [==============================] - 24s 248ms/step - loss: 0.0891 - sparse_categorical_accuracy: 0.9803 - val_loss: 1.0634 - val_sparse_categorical_accuracy: 0.8436\n",
            "Epoch 78/100\n",
            "97/97 [==============================] - 24s 247ms/step - loss: 0.0826 - sparse_categorical_accuracy: 0.9820 - val_loss: 1.0225 - val_sparse_categorical_accuracy: 0.8472\n",
            "Epoch 79/100\n",
            "97/97 [==============================] - 24s 247ms/step - loss: 0.0905 - sparse_categorical_accuracy: 0.9801 - val_loss: 1.0371 - val_sparse_categorical_accuracy: 0.8416\n",
            "Epoch 80/100\n",
            "97/97 [==============================] - 24s 247ms/step - loss: 0.1020 - sparse_categorical_accuracy: 0.9782 - val_loss: 1.1017 - val_sparse_categorical_accuracy: 0.7450\n",
            "Epoch 81/100\n",
            "97/97 [==============================] - 24s 249ms/step - loss: 0.0711 - sparse_categorical_accuracy: 0.9838 - val_loss: 0.8443 - val_sparse_categorical_accuracy: 0.8392\n",
            "Epoch 82/100\n",
            "97/97 [==============================] - 24s 246ms/step - loss: 0.0485 - sparse_categorical_accuracy: 0.9881 - val_loss: 0.8541 - val_sparse_categorical_accuracy: 0.8348\n",
            "Epoch 83/100\n",
            "97/97 [==============================] - 24s 247ms/step - loss: 0.0793 - sparse_categorical_accuracy: 0.9832 - val_loss: 0.9611 - val_sparse_categorical_accuracy: 0.8418\n",
            "Epoch 84/100\n",
            "97/97 [==============================] - 24s 247ms/step - loss: 0.0673 - sparse_categorical_accuracy: 0.9841 - val_loss: 1.1193 - val_sparse_categorical_accuracy: 0.8322\n",
            "Epoch 85/100\n",
            "97/97 [==============================] - 24s 249ms/step - loss: 0.0670 - sparse_categorical_accuracy: 0.9846 - val_loss: 0.9679 - val_sparse_categorical_accuracy: 0.8390\n",
            "Epoch 86/100\n",
            "97/97 [==============================] - 24s 245ms/step - loss: 0.0652 - sparse_categorical_accuracy: 0.9861 - val_loss: 1.1117 - val_sparse_categorical_accuracy: 0.8450\n",
            "Epoch 87/100\n",
            "97/97 [==============================] - 24s 248ms/step - loss: 0.0717 - sparse_categorical_accuracy: 0.9840 - val_loss: 1.0674 - val_sparse_categorical_accuracy: 0.8474\n",
            "Epoch 88/100\n",
            "97/97 [==============================] - 24s 244ms/step - loss: 0.0955 - sparse_categorical_accuracy: 0.9803 - val_loss: 1.6390 - val_sparse_categorical_accuracy: 0.6722\n",
            "Epoch 89/100\n",
            "97/97 [==============================] - 24s 249ms/step - loss: 0.0622 - sparse_categorical_accuracy: 0.9860 - val_loss: 1.2453 - val_sparse_categorical_accuracy: 0.7994\n",
            "Epoch 90/100\n",
            "97/97 [==============================] - 24s 248ms/step - loss: 0.0492 - sparse_categorical_accuracy: 0.9888 - val_loss: 0.9555 - val_sparse_categorical_accuracy: 0.8362\n",
            "Epoch 91/100\n",
            "97/97 [==============================] - 24s 247ms/step - loss: 0.0547 - sparse_categorical_accuracy: 0.9877 - val_loss: 0.9468 - val_sparse_categorical_accuracy: 0.8402\n",
            "Epoch 92/100\n",
            "97/97 [==============================] - 24s 246ms/step - loss: 0.0355 - sparse_categorical_accuracy: 0.9922 - val_loss: 1.1654 - val_sparse_categorical_accuracy: 0.8172\n",
            "Epoch 93/100\n",
            "97/97 [==============================] - 24s 245ms/step - loss: 0.0549 - sparse_categorical_accuracy: 0.9882 - val_loss: 1.1632 - val_sparse_categorical_accuracy: 0.8474\n",
            "Epoch 94/100\n",
            "97/97 [==============================] - 24s 244ms/step - loss: 0.0828 - sparse_categorical_accuracy: 0.9823 - val_loss: 1.0232 - val_sparse_categorical_accuracy: 0.8388\n",
            "Epoch 95/100\n",
            "97/97 [==============================] - 24s 244ms/step - loss: 0.0805 - sparse_categorical_accuracy: 0.9856 - val_loss: 1.0308 - val_sparse_categorical_accuracy: 0.8432\n",
            "Epoch 96/100\n",
            "97/97 [==============================] - 24s 244ms/step - loss: 0.0356 - sparse_categorical_accuracy: 0.9926 - val_loss: 2.0001 - val_sparse_categorical_accuracy: 0.7494\n",
            "Epoch 97/100\n",
            "97/97 [==============================] - 24s 245ms/step - loss: 0.0714 - sparse_categorical_accuracy: 0.9848 - val_loss: 0.9994 - val_sparse_categorical_accuracy: 0.8428\n",
            "Epoch 98/100\n",
            "97/97 [==============================] - 24s 248ms/step - loss: 0.0670 - sparse_categorical_accuracy: 0.9881 - val_loss: 1.0793 - val_sparse_categorical_accuracy: 0.8396\n",
            "Epoch 99/100\n",
            "97/97 [==============================] - 24s 245ms/step - loss: 0.0596 - sparse_categorical_accuracy: 0.9878 - val_loss: 0.9847 - val_sparse_categorical_accuracy: 0.8518\n",
            "Epoch 100/100\n",
            "97/97 [==============================] - 24s 247ms/step - loss: 0.0369 - sparse_categorical_accuracy: 0.9916 - val_loss: 1.3333 - val_sparse_categorical_accuracy: 0.8416\n"
          ],
          "name": "stdout"
        }
      ]
    },
    {
      "cell_type": "code",
      "metadata": {
        "id": "L-tuTX1k-UqB",
        "colab_type": "code",
        "outputId": "77577124-ec3d-489d-d709-5c0f9749e11c",
        "colab": {
          "base_uri": "https://localhost:8080/",
          "height": 513
        }
      },
      "source": [
        "acc = history.history['sparse_categorical_accuracy']\n",
        "val_acc = history.history['val_sparse_categorical_accuracy']\n",
        "\n",
        "loss = history.history['loss']\n",
        "val_loss = history.history['val_loss']\n",
        "\n",
        "plt.figure(figsize=(8, 8))\n",
        "plt.subplot(2, 1, 1)\n",
        "plt.plot(acc, label='train accuracy')\n",
        "plt.plot(val_acc, label='val accuracy')\n",
        "plt.legend(loc='lower right')\n",
        "plt.ylabel('accuracy')\n",
        "plt.ylim([min(plt.ylim()), 1])\n",
        "plt.title('train and val accuracy')\n",
        "\n",
        "plt.subplot(2, 1, 2)\n",
        "plt.plot(loss, label='train loss')\n",
        "plt.plot(val_loss, label='val loss')\n",
        "plt.legend(loc='upper right')\n",
        "plt.ylabel('loss')\n",
        "plt.ylim([0, 1.0])\n",
        "plt.title('train and val loss')\n",
        "plt.xlabel('epoch')\n",
        "plt.show()"
      ],
      "execution_count": 0,
      "outputs": [
        {
          "output_type": "display_data",
          "data": {
            "image/png": "[encoded data removed]",
            "text/plain": [
              "<Figure size 576x576 with 2 Axes>"
            ]
          },
          "metadata": {
            "tags": []
          }
        }
      ]
    },
    {
      "cell_type": "code",
      "metadata": {
        "id": "SbujCRYI-NIp",
        "colab_type": "code",
        "outputId": "0f21454d-c1ed-4323-fd11-e3e9a8e4a225",
        "colab": {
          "base_uri": "https://localhost:8080/",
          "height": 34
        }
      },
      "source": [
        "score = model.evaluate(test_dataset)"
      ],
      "execution_count": 0,
      "outputs": [
        {
          "output_type": "stream",
          "text": [
            "10/10 [==============================] - 1s 77ms/step - loss: 1.3550 - sparse_categorical_accuracy: 0.8382\n"
          ],
          "name": "stdout"
        }
      ]
    },
    {
      "cell_type": "code",
      "metadata": {
        "id": "M2DtDCT_-ntw",
        "colab_type": "code",
        "outputId": "2082a5b2-2e13-46ec-a01e-b7d03ac5b75d",
        "colab": {
          "base_uri": "https://localhost:8080/",
          "height": 34
        }
      },
      "source": [
        "print('Test accuracy : {}'.format(score[1]))"
      ],
      "execution_count": 0,
      "outputs": [
        {
          "output_type": "stream",
          "text": [
            "Test accuracy : 0.8381999731063843\n"
          ],
          "name": "stdout"
        }
      ]
    },
    {
      "cell_type": "code",
      "metadata": {
        "id": "IXaRgb05-qlj",
        "colab_type": "code",
        "colab": {}
      },
      "source": [
        "model.save_weights(filepath='vgg19/cifar10/1', save_format='tf')"
      ],
      "execution_count": 0,
      "outputs": []
    },
    {
      "cell_type": "code",
      "metadata": {
        "id": "_LdT7D0a-0Y-",
        "colab_type": "code",
        "outputId": "6bda251b-54b1-4106-c77f-f4cbfa07c0de",
        "colab": {
          "base_uri": "https://localhost:8080/",
          "height": 119
        }
      },
      "source": [
        "!zip -r vgg19-cifar10.zip vgg19/"
      ],
      "execution_count": 0,
      "outputs": [
        {
          "output_type": "stream",
          "text": [
            "  adding: vgg19/ (stored 0%)\n",
            "  adding: vgg19/cifar10/ (stored 0%)\n",
            "  adding: vgg19/cifar10/1.index (deflated 77%)\n",
            "  adding: vgg19/cifar10/1.data-00000-of-00002 (deflated 87%)\n",
            "  adding: vgg19/cifar10/checkpoint (deflated 34%)\n",
            "  adding: vgg19/cifar10/1.data-00001-of-00002 (deflated 14%)\n"
          ],
          "name": "stdout"
        }
      ]
    },
    {
      "cell_type": "code",
      "metadata": {
        "id": "TFTpk8odBquN",
        "colab_type": "code",
        "outputId": "b31e7917-f27f-4b6a-d311-ff61fb64e614",
        "colab": {
          "base_uri": "https://localhost:8080/",
          "height": 34
        }
      },
      "source": [
        "!pip install -U -q PyDrive\n",
        "from pydrive.auth import GoogleAuth\n",
        "from pydrive.drive import GoogleDrive\n",
        "from google.colab import auth\n",
        "from oauth2client.client import GoogleCredentials\n",
        "\n",
        "# 1. Authenticate and create the PyDrive client.\n",
        "auth.authenticate_user()\n",
        "gauth = GoogleAuth()\n",
        "gauth.credentials = GoogleCredentials.get_application_default()\n",
        "drive = GoogleDrive(gauth)\n",
        "\n",
        "# 2. Save Keras Model or weights on google drive\n",
        "\n",
        "# create on Colab directory\n",
        "model_file = drive.CreateFile({'title' : 'vgg19-cifar10.zip'})\n",
        "model_file.SetContentFile('vgg19-cifar10.zip')\n",
        "model_file.Upload()\n",
        "\n",
        "# download to google drive\n",
        "drive.CreateFile({'id': model_file.get('id')})"
      ],
      "execution_count": 0,
      "outputs": [
        {
          "output_type": "execute_result",
          "data": {
            "text/plain": [
              "GoogleDriveFile({'id': '1OR1GrZrz5RJWAl3Rx_k7ta_ZEUO1FO3d'})"
            ]
          },
          "metadata": {
            "tags": []
          },
          "execution_count": 4
        }
      ]
    }
  ]
}