{
 "cells": [
  {
   "cell_type": "code",
   "execution_count": 1,
   "metadata": {},
   "outputs": [],
   "source": [
    "from __future__ import absolute_import\n",
    "from __future__ import division\n",
    "from __future__ import print_function\n",
    "\n",
    "__version__ = '1.0.0'\n",
    "\n",
    "import matplotlib.pyplot as plt\n",
    "from models.lenet import LeNet\n",
    "import numpy as np\n",
    "from sklearn.decomposition import PCA\n",
    "from sklearn.model_selection import train_test_split\n",
    "import tensorflow as tf\n",
    "from trustscore import TrustScore\n",
    "from utils import plot_precision_curve\n",
    "from utils import run_model\n",
    "from utils import run_precision_plt\n",
    "assert tf.__version__.startswith('2')"
   ]
  },
  {
   "cell_type": "code",
   "execution_count": 2,
   "metadata": {},
   "outputs": [],
   "source": [
    "tf.config.experimental.set_memory_growth(\n",
    "    tf.config.experimental.list_physical_devices('GPU')[0], True\n",
    ")"
   ]
  },
  {
   "cell_type": "code",
   "execution_count": 3,
   "metadata": {},
   "outputs": [],
   "source": [
    "tf.random.set_seed(42)\n",
    "np.random.seed(42)"
   ]
  },
  {
   "cell_type": "code",
   "execution_count": 4,
   "metadata": {},
   "outputs": [],
   "source": [
    "BATCH_SIZE = 512\n",
    "EPOCHS = 60"
   ]
  },
  {
   "cell_type": "code",
   "execution_count": 5,
   "metadata": {},
   "outputs": [],
   "source": [
    "(train_features, train_labels), (test_features, test_labels) = tf.keras.datasets.mnist.load_data()\n",
    "\n",
    "train_features = train_features.reshape(-1, 28, 28, 1)\n",
    "train_features = train_features.astype('float32')\n",
    "train_features = train_features / 255.\n",
    "\n",
    "test_features = test_features.reshape(-1, 28, 28, 1)\n",
    "test_features = test_features.astype('float32')\n",
    "test_features = test_features / 255.\n",
    "\n",
    "train_labels = tf.keras.utils.to_categorical(train_labels)\n",
    "test_labels = tf.keras.utils.to_categorical(test_labels)"
   ]
  },
  {
   "cell_type": "code",
   "execution_count": 6,
   "metadata": {},
   "outputs": [],
   "source": [
    "validation_features, test_features, validation_labels, test_labels = train_test_split(test_features, test_labels, test_size=0.50, stratify=test_labels)"
   ]
  },
  {
   "cell_type": "code",
   "execution_count": 7,
   "metadata": {},
   "outputs": [],
   "source": [
    "pca = PCA(n_components=64)\n",
    "enc_train_features = pca.fit_transform(train_features.reshape(-1, 784))\n",
    "enc_test_features = pca.transform(test_features.reshape(-1, 784))"
   ]
  },
  {
   "cell_type": "code",
   "execution_count": 8,
   "metadata": {},
   "outputs": [
    {
     "name": "stderr",
     "output_type": "stream",
     "text": [
      "WARNING: Logging before flag parsing goes to stderr.\n",
      "W0827 21:24:08.641819 140114720233280 deprecation.py:323] From /home/darth/tf2/lib/python3.6/site-packages/tensorflow/python/data/util/random_seed.py:58: add_dispatch_support.<locals>.wrapper (from tensorflow.python.ops.array_ops) is deprecated and will be removed in a future version.\n",
      "Instructions for updating:\n",
      "Use tf.where in 2.0, which has the same broadcast rule as np.where\n"
     ]
    }
   ],
   "source": [
    "train_dataset = tf.data.Dataset.from_tensor_slices((train_features, train_labels))\n",
    "train_dataset = train_dataset.prefetch(BATCH_SIZE * 8)\n",
    "train_dataset = train_dataset.shuffle(train_features.shape[0])\n",
    "train_dataset = train_dataset.batch(BATCH_SIZE, True)\n",
    "\n",
    "validation_dataset = tf.data.Dataset.from_tensor_slices((validation_features, validation_labels))\n",
    "validation_dataset = validation_dataset.batch((BATCH_SIZE // 4))\n",
    "\n",
    "test_dataset = tf.data.Dataset.from_tensor_slices((test_features, test_labels))\n",
    "test_dataset = test_dataset.batch((BATCH_SIZE // 4))"
   ]
  },
  {
   "cell_type": "code",
   "execution_count": 9,
   "metadata": {},
   "outputs": [],
   "source": [
    "model = LeNet(num_classes=10)"
   ]
  },
  {
   "cell_type": "code",
   "execution_count": 10,
   "metadata": {},
   "outputs": [],
   "source": [
    "model.compile(loss=tf.losses.categorical_crossentropy,\n",
    "              optimizer=tf.optimizers.SGD(learning_rate=1e-1, decay=1e-6, momentum=9e-1),\n",
    "              metrics=['accuracy'])"
   ]
  },
  {
   "cell_type": "code",
   "execution_count": 11,
   "metadata": {},
   "outputs": [
    {
     "data": {
      "text/plain": [
       "<tf.Tensor: id=290, shape=(1, 10), dtype=float32, numpy=\n",
       "array([[0.10837904, 0.07632465, 0.09245767, 0.11244861, 0.08700184,\n",
       "        0.12559487, 0.09813165, 0.11337415, 0.09610079, 0.09018669]],\n",
       "      dtype=float32)>"
      ]
     },
     "execution_count": 11,
     "metadata": {},
     "output_type": "execute_result"
    }
   ],
   "source": [
    "model(train_features[0].reshape(1, 28, 28, 1))"
   ]
  },
  {
   "cell_type": "code",
   "execution_count": 12,
   "metadata": {},
   "outputs": [
    {
     "name": "stdout",
     "output_type": "stream",
     "text": [
      "Model: \"le_net\"\n",
      "_________________________________________________________________\n",
      "Layer (type)                 Output Shape              Param #   \n",
      "=================================================================\n",
      "conv2d (Conv2D)              multiple                  156       \n",
      "_________________________________________________________________\n",
      "max_pooling2d (MaxPooling2D) multiple                  0         \n",
      "_________________________________________________________________\n",
      "conv2d_1 (Conv2D)            multiple                  2416      \n",
      "_________________________________________________________________\n",
      "max_pooling2d_1 (MaxPooling2 multiple                  0         \n",
      "_________________________________________________________________\n",
      "flatten (Flatten)            multiple                  0         \n",
      "_________________________________________________________________\n",
      "dense (Dense)                multiple                  30840     \n",
      "_________________________________________________________________\n",
      "dense_1 (Dense)              multiple                  10164     \n",
      "_________________________________________________________________\n",
      "dense_2 (Dense)              multiple                  850       \n",
      "=================================================================\n",
      "Total params: 44,426\n",
      "Trainable params: 44,426\n",
      "Non-trainable params: 0\n",
      "_________________________________________________________________\n"
     ]
    }
   ],
   "source": [
    "model.summary()"
   ]
  },
  {
   "cell_type": "code",
   "execution_count": 13,
   "metadata": {},
   "outputs": [
    {
     "name": "stdout",
     "output_type": "stream",
     "text": [
      "Epoch 1/60\n",
      "117/117 - 3s - loss: 0.7352 - accuracy: 0.5476 - val_loss: 0.1526 - val_accuracy: 0.9510\n",
      "Epoch 2/60\n",
      "117/117 - 2s - loss: 0.1147 - accuracy: 0.9605 - val_loss: 0.0909 - val_accuracy: 0.9704\n",
      "Epoch 3/60\n",
      "117/117 - 2s - loss: 0.0874 - accuracy: 0.9712 - val_loss: 0.0760 - val_accuracy: 0.9754\n",
      "Epoch 4/60\n",
      "117/117 - 2s - loss: 0.0737 - accuracy: 0.9759 - val_loss: 0.0767 - val_accuracy: 0.9752\n",
      "Epoch 5/60\n",
      "117/117 - 2s - loss: 0.0677 - accuracy: 0.9774 - val_loss: 0.0726 - val_accuracy: 0.9778\n",
      "Epoch 6/60\n",
      "117/117 - 2s - loss: 0.0632 - accuracy: 0.9787 - val_loss: 0.0930 - val_accuracy: 0.9734\n",
      "Epoch 7/60\n",
      "117/117 - 2s - loss: 0.0633 - accuracy: 0.9785 - val_loss: 0.0709 - val_accuracy: 0.9770\n",
      "Epoch 8/60\n",
      "117/117 - 2s - loss: 0.0532 - accuracy: 0.9817 - val_loss: 0.0700 - val_accuracy: 0.9784\n",
      "Epoch 9/60\n",
      "117/117 - 2s - loss: 0.0511 - accuracy: 0.9831 - val_loss: 0.0697 - val_accuracy: 0.9792\n",
      "Epoch 10/60\n",
      "117/117 - 2s - loss: 0.0537 - accuracy: 0.9825 - val_loss: 0.0645 - val_accuracy: 0.9822\n",
      "Epoch 11/60\n",
      "117/117 - 2s - loss: 0.0423 - accuracy: 0.9861 - val_loss: 0.0640 - val_accuracy: 0.9814\n",
      "Epoch 12/60\n",
      "117/117 - 2s - loss: 0.0385 - accuracy: 0.9866 - val_loss: 0.0650 - val_accuracy: 0.9814\n",
      "Epoch 13/60\n",
      "117/117 - 2s - loss: 0.0332 - accuracy: 0.9889 - val_loss: 0.0645 - val_accuracy: 0.9808\n",
      "Epoch 14/60\n",
      "117/117 - 2s - loss: 0.0320 - accuracy: 0.9891 - val_loss: 0.0810 - val_accuracy: 0.9776\n",
      "Epoch 15/60\n",
      "117/117 - 2s - loss: 0.0280 - accuracy: 0.9899 - val_loss: 0.0806 - val_accuracy: 0.9792\n",
      "Epoch 16/60\n",
      "117/117 - 2s - loss: 0.0298 - accuracy: 0.9892 - val_loss: 0.0769 - val_accuracy: 0.9806\n",
      "Epoch 17/60\n",
      "117/117 - 2s - loss: 0.0270 - accuracy: 0.9908 - val_loss: 0.0750 - val_accuracy: 0.9798\n",
      "Epoch 18/60\n",
      "117/117 - 2s - loss: 0.0244 - accuracy: 0.9914 - val_loss: 0.0844 - val_accuracy: 0.9794\n",
      "Epoch 19/60\n",
      "117/117 - 2s - loss: 0.0242 - accuracy: 0.9927 - val_loss: 0.0861 - val_accuracy: 0.9794\n",
      "Epoch 20/60\n",
      "117/117 - 2s - loss: 0.0229 - accuracy: 0.9921 - val_loss: 0.0801 - val_accuracy: 0.9788\n",
      "Epoch 21/60\n",
      "117/117 - 2s - loss: 0.0235 - accuracy: 0.9917 - val_loss: 0.0768 - val_accuracy: 0.9802\n",
      "Epoch 22/60\n",
      "117/117 - 2s - loss: 0.0242 - accuracy: 0.9909 - val_loss: 0.0656 - val_accuracy: 0.9832\n",
      "Epoch 23/60\n",
      "117/117 - 2s - loss: 0.0221 - accuracy: 0.9928 - val_loss: 0.0763 - val_accuracy: 0.9806\n",
      "Epoch 24/60\n",
      "117/117 - 2s - loss: 0.0195 - accuracy: 0.9929 - val_loss: 0.0745 - val_accuracy: 0.9822\n",
      "Epoch 25/60\n",
      "117/117 - 2s - loss: 0.0169 - accuracy: 0.9940 - val_loss: 0.0799 - val_accuracy: 0.9836\n",
      "Epoch 26/60\n",
      "117/117 - 2s - loss: 0.0183 - accuracy: 0.9939 - val_loss: 0.0748 - val_accuracy: 0.9852\n",
      "Epoch 27/60\n",
      "117/117 - 2s - loss: 0.0224 - accuracy: 0.9943 - val_loss: 0.0773 - val_accuracy: 0.9830\n",
      "Epoch 28/60\n",
      "117/117 - 2s - loss: 0.0210 - accuracy: 0.9931 - val_loss: 0.0837 - val_accuracy: 0.9826\n",
      "Epoch 29/60\n",
      "117/117 - 2s - loss: 0.0169 - accuracy: 0.9944 - val_loss: 0.0836 - val_accuracy: 0.9822\n",
      "Epoch 30/60\n",
      "117/117 - 2s - loss: 0.0181 - accuracy: 0.9944 - val_loss: 0.0751 - val_accuracy: 0.9818\n",
      "Epoch 31/60\n",
      "117/117 - 2s - loss: 0.0147 - accuracy: 0.9955 - val_loss: 0.0678 - val_accuracy: 0.9836\n",
      "Epoch 32/60\n",
      "117/117 - 2s - loss: 0.0149 - accuracy: 0.9952 - val_loss: 0.0752 - val_accuracy: 0.9836\n",
      "Epoch 33/60\n",
      "117/117 - 2s - loss: 0.0168 - accuracy: 0.9949 - val_loss: 0.1020 - val_accuracy: 0.9790\n",
      "Epoch 34/60\n",
      "117/117 - 2s - loss: 0.0152 - accuracy: 0.9942 - val_loss: 0.0984 - val_accuracy: 0.9824\n",
      "Epoch 35/60\n",
      "117/117 - 2s - loss: 0.0176 - accuracy: 0.9943 - val_loss: 0.1024 - val_accuracy: 0.9802\n",
      "Epoch 36/60\n",
      "117/117 - 2s - loss: 0.0194 - accuracy: 0.9945 - val_loss: 0.0985 - val_accuracy: 0.9800\n",
      "Epoch 37/60\n",
      "117/117 - 2s - loss: 0.0178 - accuracy: 0.9942 - val_loss: 0.1040 - val_accuracy: 0.9798\n",
      "Epoch 38/60\n",
      "117/117 - 2s - loss: 0.0153 - accuracy: 0.9950 - val_loss: 0.0878 - val_accuracy: 0.9800\n",
      "Epoch 39/60\n",
      "117/117 - 2s - loss: 0.0169 - accuracy: 0.9951 - val_loss: 0.0949 - val_accuracy: 0.9800\n",
      "Epoch 40/60\n",
      "117/117 - 2s - loss: 0.0128 - accuracy: 0.9956 - val_loss: 0.0759 - val_accuracy: 0.9840\n",
      "Epoch 41/60\n",
      "117/117 - 2s - loss: 0.0139 - accuracy: 0.9950 - val_loss: 0.0723 - val_accuracy: 0.9826\n",
      "Epoch 42/60\n",
      "117/117 - 2s - loss: 0.0156 - accuracy: 0.9949 - val_loss: 0.0741 - val_accuracy: 0.9844\n",
      "Epoch 43/60\n",
      "117/117 - 2s - loss: 0.0162 - accuracy: 0.9956 - val_loss: 0.0774 - val_accuracy: 0.9840\n",
      "Epoch 44/60\n",
      "117/117 - 2s - loss: 0.0153 - accuracy: 0.9953 - val_loss: 0.0772 - val_accuracy: 0.9846\n",
      "Epoch 45/60\n",
      "117/117 - 2s - loss: 0.0143 - accuracy: 0.9956 - val_loss: 0.0729 - val_accuracy: 0.9852\n",
      "Epoch 46/60\n",
      "117/117 - 2s - loss: 0.0148 - accuracy: 0.9956 - val_loss: 0.0714 - val_accuracy: 0.9852\n",
      "Epoch 47/60\n",
      "117/117 - 2s - loss: 0.0100 - accuracy: 0.9962 - val_loss: 0.0708 - val_accuracy: 0.9852\n",
      "Epoch 48/60\n",
      "117/117 - 2s - loss: 0.0168 - accuracy: 0.9953 - val_loss: 0.0694 - val_accuracy: 0.9868\n",
      "Epoch 49/60\n",
      "117/117 - 2s - loss: 0.0123 - accuracy: 0.9954 - val_loss: 0.0899 - val_accuracy: 0.9842\n",
      "Epoch 50/60\n",
      "117/117 - 2s - loss: 0.0116 - accuracy: 0.9959 - val_loss: 0.0847 - val_accuracy: 0.9834\n",
      "Epoch 51/60\n",
      "117/117 - 2s - loss: 0.0133 - accuracy: 0.9957 - val_loss: 0.0979 - val_accuracy: 0.9832\n",
      "Epoch 52/60\n",
      "117/117 - 2s - loss: 0.0141 - accuracy: 0.9949 - val_loss: 0.0824 - val_accuracy: 0.9842\n",
      "Epoch 53/60\n",
      "117/117 - 2s - loss: 0.0138 - accuracy: 0.9960 - val_loss: 0.0880 - val_accuracy: 0.9826\n",
      "Epoch 54/60\n",
      "117/117 - 2s - loss: 0.0138 - accuracy: 0.9958 - val_loss: 0.0809 - val_accuracy: 0.9844\n",
      "Epoch 55/60\n",
      "117/117 - 2s - loss: 0.0095 - accuracy: 0.9972 - val_loss: 0.0798 - val_accuracy: 0.9840\n",
      "Epoch 56/60\n",
      "117/117 - 3s - loss: 0.0125 - accuracy: 0.9964 - val_loss: 0.0864 - val_accuracy: 0.9862\n",
      "Epoch 57/60\n",
      "117/117 - 3s - loss: 0.0149 - accuracy: 0.9959 - val_loss: 0.0870 - val_accuracy: 0.9838\n",
      "Epoch 58/60\n",
      "117/117 - 3s - loss: 0.0134 - accuracy: 0.9952 - val_loss: 0.0786 - val_accuracy: 0.9844\n",
      "Epoch 59/60\n",
      "117/117 - 2s - loss: 0.0123 - accuracy: 0.9961 - val_loss: 0.0917 - val_accuracy: 0.9834\n",
      "Epoch 60/60\n",
      "117/117 - 2s - loss: 0.0121 - accuracy: 0.9958 - val_loss: 0.0882 - val_accuracy: 0.9840\n"
     ]
    }
   ],
   "source": [
    "history = model.fit(train_dataset,\n",
    "                    epochs=60,\n",
    "                    validation_data=validation_dataset,\n",
    "                    verbose=2)"
   ]
  },
  {
   "cell_type": "code",
   "execution_count": 14,
   "metadata": {},
   "outputs": [
    {
     "data": {
      "image/png": "[encoded data removed]",
      "text/plain": [
       "<Figure size 576x576 with 2 Axes>"
      ]
     },
     "metadata": {
      "needs_background": "light"
     },
     "output_type": "display_data"
    }
   ],
   "source": [
    "acc = history.history['accuracy']\n",
    "val_acc = history.history['val_accuracy']\n",
    "\n",
    "loss = history.history['loss']\n",
    "val_loss = history.history['val_loss']\n",
    "\n",
    "plt.figure(figsize=(8, 8))\n",
    "plt.subplot(2, 1, 1)\n",
    "plt.plot(acc, label='Training Accuracy')\n",
    "plt.plot(val_acc, label='Validation Accuracy')\n",
    "plt.legend(loc='lower right')\n",
    "plt.ylabel('Accuracy')\n",
    "plt.ylim([min(plt.ylim()),1])\n",
    "plt.title('Training and Validation Accuracy')\n",
    "\n",
    "plt.subplot(2, 1, 2)\n",
    "plt.plot(loss, label='Training Loss')\n",
    "plt.plot(val_loss, label='Validation Loss')\n",
    "plt.legend(loc='upper right')\n",
    "plt.ylabel('Cross Entropy')\n",
    "plt.ylim([0,1.0])\n",
    "plt.title('Training and Validation Loss')\n",
    "plt.xlabel('epoch')\n",
    "plt.show()"
   ]
  },
  {
   "cell_type": "code",
   "execution_count": 15,
   "metadata": {},
   "outputs": [
    {
     "name": "stdout",
     "output_type": "stream",
     "text": [
      "40/40 [==============================] - 0s 3ms/step - loss: 0.0932 - accuracy: 0.9836\n",
      "test accuracy : 0.9836000204086304\n"
     ]
    }
   ],
   "source": [
    "score = model.evaluate(test_dataset)\n",
    "print('test accuracy : {}'.format(score[1]))"
   ]
  },
  {
   "cell_type": "code",
   "execution_count": 16,
   "metadata": {},
   "outputs": [],
   "source": [
    "ts = TrustScore(alpha=5e-2)\n",
    "ts.fit(enc_train_features, train_labels)"
   ]
  },
  {
   "cell_type": "code",
   "execution_count": 17,
   "metadata": {},
   "outputs": [],
   "source": [
    "predictions = model.predict(test_features)"
   ]
  },
  {
   "cell_type": "code",
   "execution_count": 18,
   "metadata": {},
   "outputs": [],
   "source": [
    "trust_scores, closest_classes = ts.score(enc_test_features,\n",
    "                                         predictions,\n",
    "                                         k=5)"
   ]
  },
  {
   "cell_type": "code",
   "execution_count": 19,
   "metadata": {},
   "outputs": [],
   "source": [
    "num_samples = 5\n",
    "index_min = np.argsort(trust_scores)[:num_samples]\n",
    "index_max = np.argsort(trust_scores)[-num_samples:]\n",
    "score_min = trust_scores[index_min]\n",
    "score_max = trust_scores[index_max]\n",
    "closest_min = closest_classes[index_min]\n",
    "closest_max = closest_classes[index_max]\n",
    "prediction_min = tf.argmax(predictions[index_min], 1)\n",
    "prediction_max = tf.argmax(predictions[index_max], 1)\n",
    "likelihood_min = tf.math.reduce_max(predictions[index_min], 1)\n",
    "likelihood_max = tf.math.reduce_max(predictions[index_max], 1)\n",
    "label_min = tf.argmax(test_labels[index_min], 1)\n",
    "label_max = tf.argmax(test_labels[index_max], 1)\n",
    "features_min = test_features[index_min]\n",
    "features_max = test_features[index_max]"
   ]
  },
  {
   "cell_type": "code",
   "execution_count": 20,
   "metadata": {},
   "outputs": [
    {
     "data": {
      "image/png": "[encoded data removed]",
      "text/plain": [
       "<Figure size 1440x288 with 5 Axes>"
      ]
     },
     "metadata": {
      "needs_background": "light"
     },
     "output_type": "display_data"
    }
   ],
   "source": [
    "plt.figure(figsize=(20, 4))\n",
    "\n",
    "for index in range(num_samples):\n",
    "    axis = plt.subplot(1, num_samples, index + 1)\n",
    "    plt.imshow(features_min[index].reshape(28, 28), cmap='gray')\n",
    "    plt.title('Model prediction : {}\\nLabel : {} ({:.3f})\\nTrust score : {:.3f}' \\\n",
    "              '\\nClosest other class : {}'.format(prediction_min.numpy()[index],\n",
    "                                                  label_min.numpy()[index],\n",
    "                                                  likelihood_min[index],\n",
    "                                                  score_min[index],\n",
    "                                                  closest_min[index]))\n",
    "    axis.get_xaxis().set_visible(False)\n",
    "    axis.get_yaxis().set_visible(False)\n",
    "plt.show()"
   ]
  },
  {
   "cell_type": "code",
   "execution_count": 21,
   "metadata": {},
   "outputs": [
    {
     "data": {
      "image/png": "[encoded data removed]",
      "text/plain": [
       "<Figure size 1440x288 with 5 Axes>"
      ]
     },
     "metadata": {
      "needs_background": "light"
     },
     "output_type": "display_data"
    }
   ],
   "source": [
    "plt.figure(figsize=(20, 4))\n",
    "\n",
    "for index in range(num_samples):\n",
    "    axis = plt.subplot(1, num_samples, index + 1)\n",
    "    plt.imshow(features_max[index].reshape(28, 28), cmap='gray')\n",
    "    plt.title('Model prediction : {}\\nLabel : {} ({:.3f})\\nTrust score : {:.3f}' \\\n",
    "              '\\nClosest other class : {}'.format(prediction_max.numpy()[index],\n",
    "                                                  label_max.numpy()[index],\n",
    "                                                  likelihood_max[index],\n",
    "                                                  score_max[index],\n",
    "                                                  closest_max[index]))\n",
    "    axis.get_xaxis().set_visible(False)\n",
    "    axis.get_yaxis().set_visible(False)\n",
    "plt.show()"
   ]
  },
  {
   "cell_type": "code",
   "execution_count": 22,
   "metadata": {},
   "outputs": [],
   "source": [
    "percentiles = [0 + 0.5 * index for index in range(200)]\n",
    "num_fold = 5\n",
    "plt_names = ['Model Confidence', 'Trust Score']"
   ]
  },
  {
   "cell_type": "code",
   "execution_count": 25,
   "metadata": {},
   "outputs": [
    {
     "data": {
      "image/png": "[encoded data removed]",
      "text/plain": [
       "<Figure size 432x288 with 1 Axes>"
      ]
     },
     "metadata": {
      "needs_background": "light"
     },
     "output_type": "display_data"
    }
   ],
   "source": [
    "run_precision_plt(train_features,\n",
    "                  train_labels,\n",
    "                  num_fold,\n",
    "                  percentiles,\n",
    "                  run_model,\n",
    "                  plt_title='',\n",
    "                  plt_names=plt_names,\n",
    "                  predict_correct=True,\n",
    "                  model=model)"
   ]
  },
  {
   "cell_type": "code",
   "execution_count": 24,
   "metadata": {},
   "outputs": [],
   "source": [
    "model.save_weights('saved_model/mnist/lenet/1', save_format='tf')"
   ]
  }
 ],
 "metadata": {
  "kernelspec": {
   "display_name": "Python 3",
   "language": "python",
   "name": "python3"
  },
  "language_info": {
   "codemirror_mode": {
    "name": "ipython",
    "version": 3
   },
   "file_extension": ".py",
   "mimetype": "text/x-python",
   "name": "python",
   "nbconvert_exporter": "python",
   "pygments_lexer": "ipython3",
   "version": "3.6.7"
  }
 },
 "nbformat": 4,
 "nbformat_minor": 2
}
