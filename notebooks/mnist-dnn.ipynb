{
 "cells": [
  {
   "cell_type": "code",
   "execution_count": 1,
   "metadata": {},
   "outputs": [],
   "source": [
    "from __future__ import absolute_import\n",
    "from __future__ import division\n",
    "from __future__ import print_function\n",
    "\n",
    "__version__ = '1.0.0'\n",
    "\n",
    "import matplotlib.pyplot as plt\n",
    "from models.dnn import NeuralNet\n",
    "import numpy as np\n",
    "from sklearn.decomposition import PCA\n",
    "from sklearn.model_selection import train_test_split\n",
    "import tensorflow as tf\n",
    "from trustscore import TrustScore\n",
    "from utils import plot_precision_curve\n",
    "from utils import run_model\n",
    "from utils import run_precision_plt\n",
    "assert tf.__version__.startswith('2')"
   ]
  },
  {
   "cell_type": "code",
   "execution_count": 2,
   "metadata": {},
   "outputs": [],
   "source": [
    "tf.config.experimental.set_memory_growth(\n",
    "    tf.config.experimental.list_physical_devices('GPU')[0], True\n",
    ")"
   ]
  },
  {
   "cell_type": "code",
   "execution_count": 3,
   "metadata": {},
   "outputs": [],
   "source": [
    "tf.random.set_seed(42)\n",
    "np.random.seed(42)"
   ]
  },
  {
   "cell_type": "code",
   "execution_count": 4,
   "metadata": {},
   "outputs": [],
   "source": [
    "BATCH_SIZE = 512\n",
    "EPOCHS = 60"
   ]
  },
  {
   "cell_type": "code",
   "execution_count": 5,
   "metadata": {},
   "outputs": [],
   "source": [
    "(train_features, train_labels), (test_features, test_labels) = tf.keras.datasets.mnist.load_data()\n",
    "\n",
    "train_features = train_features.reshape(-1, 784)\n",
    "train_features = train_features.astype('float32')\n",
    "train_features = train_features / 255.\n",
    "\n",
    "test_features = test_features.reshape(-1, 784)\n",
    "test_features = test_features.astype('float32')\n",
    "test_features = test_features / 255.\n",
    "\n",
    "train_labels = tf.keras.utils.to_categorical(train_labels)\n",
    "test_labels = tf.keras.utils.to_categorical(test_labels)"
   ]
  },
  {
   "cell_type": "code",
   "execution_count": 6,
   "metadata": {},
   "outputs": [],
   "source": [
    "validation_features, test_features, validation_labels, test_labels = train_test_split(test_features, test_labels, test_size=0.50, stratify=test_labels)"
   ]
  },
  {
   "cell_type": "code",
   "execution_count": 7,
   "metadata": {},
   "outputs": [],
   "source": [
    "pca = PCA(n_components=64)\n",
    "enc_train_features = pca.fit_transform(train_features)\n",
    "enc_test_features = pca.transform(test_features)"
   ]
  },
  {
   "cell_type": "code",
   "execution_count": 8,
   "metadata": {},
   "outputs": [
    {
     "name": "stderr",
     "output_type": "stream",
     "text": [
      "WARNING: Logging before flag parsing goes to stderr.\n",
      "W0828 01:31:43.877856 139976404383552 deprecation.py:323] From /home/darth/tf2/lib/python3.6/site-packages/tensorflow/python/data/util/random_seed.py:58: add_dispatch_support.<locals>.wrapper (from tensorflow.python.ops.array_ops) is deprecated and will be removed in a future version.\n",
      "Instructions for updating:\n",
      "Use tf.where in 2.0, which has the same broadcast rule as np.where\n"
     ]
    }
   ],
   "source": [
    "train_dataset = tf.data.Dataset.from_tensor_slices((train_features, train_labels))\n",
    "train_dataset = train_dataset.prefetch(BATCH_SIZE * 8)\n",
    "train_dataset = train_dataset.shuffle(train_features.shape[0])\n",
    "train_dataset = train_dataset.batch(BATCH_SIZE, True)\n",
    "\n",
    "validation_dataset = tf.data.Dataset.from_tensor_slices((validation_features, validation_labels))\n",
    "validation_dataset = validation_dataset.batch((BATCH_SIZE // 4))\n",
    "\n",
    "test_dataset = tf.data.Dataset.from_tensor_slices((test_features, test_labels))\n",
    "test_dataset = test_dataset.batch((BATCH_SIZE // 4))"
   ]
  },
  {
   "cell_type": "code",
   "execution_count": 9,
   "metadata": {},
   "outputs": [],
   "source": [
    "model = NeuralNet(input_shape=(784,),\n",
    "                  units=[512, 512],\n",
    "                  dropout_rate=2e-1,\n",
    "                  num_classes=10)"
   ]
  },
  {
   "cell_type": "code",
   "execution_count": 10,
   "metadata": {},
   "outputs": [],
   "source": [
    "model.compile(loss=tf.losses.categorical_crossentropy,\n",
    "              optimizer=tf.optimizers.SGD(learning_rate=1e-1, decay=1e-6, momentum=9e-1),\n",
    "              metrics=['accuracy'])"
   ]
  },
  {
   "cell_type": "code",
   "execution_count": 11,
   "metadata": {},
   "outputs": [
    {
     "data": {
      "text/plain": [
       "<tf.Tensor: id=190, shape=(1, 10), dtype=float32, numpy=\n",
       "array([[0.1333855 , 0.07496793, 0.09126589, 0.13227628, 0.08643716,\n",
       "        0.09886126, 0.11466784, 0.07162109, 0.07591826, 0.12059879]],\n",
       "      dtype=float32)>"
      ]
     },
     "execution_count": 11,
     "metadata": {},
     "output_type": "execute_result"
    }
   ],
   "source": [
    "model(train_features[0].reshape(1, 784))"
   ]
  },
  {
   "cell_type": "code",
   "execution_count": 12,
   "metadata": {},
   "outputs": [
    {
     "name": "stdout",
     "output_type": "stream",
     "text": [
      "Model: \"neural_net\"\n",
      "_________________________________________________________________\n",
      "Layer (type)                 Output Shape              Param #   \n",
      "=================================================================\n",
      "dense (Dense)                multiple                  401920    \n",
      "_________________________________________________________________\n",
      "dropout (Dropout)            multiple                  0         \n",
      "_________________________________________________________________\n",
      "dense_1 (Dense)              multiple                  262656    \n",
      "_________________________________________________________________\n",
      "dropout_1 (Dropout)          multiple                  0         \n",
      "_________________________________________________________________\n",
      "dense_2 (Dense)              multiple                  5130      \n",
      "=================================================================\n",
      "Total params: 669,706\n",
      "Trainable params: 669,706\n",
      "Non-trainable params: 0\n",
      "_________________________________________________________________\n"
     ]
    }
   ],
   "source": [
    "model.summary()"
   ]
  },
  {
   "cell_type": "code",
   "execution_count": 13,
   "metadata": {},
   "outputs": [
    {
     "name": "stdout",
     "output_type": "stream",
     "text": [
      "Epoch 1/60\n",
      "117/117 - 2s - loss: 0.4037 - accuracy: 0.7809 - val_loss: 0.1686 - val_accuracy: 0.9476\n",
      "Epoch 2/60\n",
      "117/117 - 2s - loss: 0.1323 - accuracy: 0.9554 - val_loss: 0.1050 - val_accuracy: 0.9686\n",
      "Epoch 3/60\n",
      "117/117 - 2s - loss: 0.0906 - accuracy: 0.9708 - val_loss: 0.0851 - val_accuracy: 0.9738\n",
      "Epoch 4/60\n",
      "117/117 - 2s - loss: 0.0673 - accuracy: 0.9796 - val_loss: 0.0777 - val_accuracy: 0.9768\n",
      "Epoch 5/60\n",
      "117/117 - 2s - loss: 0.0538 - accuracy: 0.9835 - val_loss: 0.0790 - val_accuracy: 0.9750\n",
      "Epoch 6/60\n",
      "117/117 - 2s - loss: 0.0437 - accuracy: 0.9871 - val_loss: 0.0780 - val_accuracy: 0.9756\n",
      "Epoch 7/60\n",
      "117/117 - 2s - loss: 0.0338 - accuracy: 0.9908 - val_loss: 0.0729 - val_accuracy: 0.9786\n",
      "Epoch 8/60\n",
      "117/117 - 2s - loss: 0.0271 - accuracy: 0.9933 - val_loss: 0.0683 - val_accuracy: 0.9796\n",
      "Epoch 9/60\n",
      "117/117 - 1s - loss: 0.0222 - accuracy: 0.9947 - val_loss: 0.0669 - val_accuracy: 0.9790\n",
      "Epoch 10/60\n",
      "117/117 - 2s - loss: 0.0187 - accuracy: 0.9951 - val_loss: 0.0671 - val_accuracy: 0.9804\n",
      "Epoch 11/60\n",
      "117/117 - 2s - loss: 0.0148 - accuracy: 0.9961 - val_loss: 0.0716 - val_accuracy: 0.9800\n",
      "Epoch 12/60\n",
      "117/117 - 2s - loss: 0.0121 - accuracy: 0.9973 - val_loss: 0.0660 - val_accuracy: 0.9808\n",
      "Epoch 13/60\n",
      "117/117 - 2s - loss: 0.0105 - accuracy: 0.9979 - val_loss: 0.0748 - val_accuracy: 0.9784\n",
      "Epoch 14/60\n",
      "117/117 - 1s - loss: 0.0090 - accuracy: 0.9983 - val_loss: 0.0701 - val_accuracy: 0.9800\n",
      "Epoch 15/60\n",
      "117/117 - 2s - loss: 0.0075 - accuracy: 0.9982 - val_loss: 0.0713 - val_accuracy: 0.9794\n",
      "Epoch 16/60\n",
      "117/117 - 2s - loss: 0.0054 - accuracy: 0.9994 - val_loss: 0.0692 - val_accuracy: 0.9818\n",
      "Epoch 17/60\n",
      "117/117 - 2s - loss: 0.0041 - accuracy: 0.9996 - val_loss: 0.0720 - val_accuracy: 0.9810\n",
      "Epoch 18/60\n",
      "117/117 - 2s - loss: 0.0033 - accuracy: 0.9995 - val_loss: 0.0677 - val_accuracy: 0.9818\n",
      "Epoch 19/60\n",
      "117/117 - 2s - loss: 0.0025 - accuracy: 0.9997 - val_loss: 0.0641 - val_accuracy: 0.9832\n",
      "Epoch 20/60\n",
      "117/117 - 2s - loss: 0.0017 - accuracy: 0.9999 - val_loss: 0.0646 - val_accuracy: 0.9834\n",
      "Epoch 21/60\n",
      "117/117 - 2s - loss: 0.0014 - accuracy: 1.0000 - val_loss: 0.0652 - val_accuracy: 0.9834\n",
      "Epoch 22/60\n",
      "117/117 - 2s - loss: 0.0012 - accuracy: 1.0000 - val_loss: 0.0660 - val_accuracy: 0.9832\n",
      "Epoch 23/60\n",
      "117/117 - 2s - loss: 0.0011 - accuracy: 1.0000 - val_loss: 0.0664 - val_accuracy: 0.9832\n",
      "Epoch 24/60\n",
      "117/117 - 2s - loss: 0.0010 - accuracy: 1.0000 - val_loss: 0.0666 - val_accuracy: 0.9834\n",
      "Epoch 25/60\n",
      "117/117 - 2s - loss: 9.5427e-04 - accuracy: 1.0000 - val_loss: 0.0666 - val_accuracy: 0.9834\n",
      "Epoch 26/60\n",
      "117/117 - 2s - loss: 8.9972e-04 - accuracy: 1.0000 - val_loss: 0.0668 - val_accuracy: 0.9836\n",
      "Epoch 27/60\n",
      "117/117 - 2s - loss: 8.5414e-04 - accuracy: 1.0000 - val_loss: 0.0669 - val_accuracy: 0.9836\n",
      "Epoch 28/60\n",
      "117/117 - 2s - loss: 8.1520e-04 - accuracy: 1.0000 - val_loss: 0.0670 - val_accuracy: 0.9840\n",
      "Epoch 29/60\n",
      "117/117 - 1s - loss: 7.8135e-04 - accuracy: 1.0000 - val_loss: 0.0672 - val_accuracy: 0.9840\n",
      "Epoch 30/60\n",
      "117/117 - 2s - loss: 7.5171e-04 - accuracy: 1.0000 - val_loss: 0.0674 - val_accuracy: 0.9840\n",
      "Epoch 31/60\n",
      "117/117 - 2s - loss: 7.2567e-04 - accuracy: 1.0000 - val_loss: 0.0676 - val_accuracy: 0.9840\n",
      "Epoch 32/60\n",
      "117/117 - 2s - loss: 7.0228e-04 - accuracy: 1.0000 - val_loss: 0.0677 - val_accuracy: 0.9840\n",
      "Epoch 33/60\n",
      "117/117 - 2s - loss: 6.8125e-04 - accuracy: 1.0000 - val_loss: 0.0679 - val_accuracy: 0.9840\n",
      "Epoch 34/60\n",
      "117/117 - 1s - loss: 6.6213e-04 - accuracy: 1.0000 - val_loss: 0.0681 - val_accuracy: 0.9840\n",
      "Epoch 35/60\n",
      "117/117 - 2s - loss: 6.4472e-04 - accuracy: 1.0000 - val_loss: 0.0682 - val_accuracy: 0.9840\n",
      "Epoch 36/60\n",
      "117/117 - 2s - loss: 6.2882e-04 - accuracy: 1.0000 - val_loss: 0.0684 - val_accuracy: 0.9838\n",
      "Epoch 37/60\n",
      "117/117 - 2s - loss: 6.1422e-04 - accuracy: 1.0000 - val_loss: 0.0686 - val_accuracy: 0.9838\n",
      "Epoch 38/60\n",
      "117/117 - 2s - loss: 6.0071e-04 - accuracy: 1.0000 - val_loss: 0.0688 - val_accuracy: 0.9838\n",
      "Epoch 39/60\n",
      "117/117 - 1s - loss: 5.8824e-04 - accuracy: 1.0000 - val_loss: 0.0689 - val_accuracy: 0.9838\n",
      "Epoch 40/60\n",
      "117/117 - 2s - loss: 5.7668e-04 - accuracy: 1.0000 - val_loss: 0.0691 - val_accuracy: 0.9838\n",
      "Epoch 41/60\n",
      "117/117 - 2s - loss: 5.6590e-04 - accuracy: 1.0000 - val_loss: 0.0693 - val_accuracy: 0.9838\n",
      "Epoch 42/60\n",
      "117/117 - 2s - loss: 5.5582e-04 - accuracy: 1.0000 - val_loss: 0.0694 - val_accuracy: 0.9838\n",
      "Epoch 43/60\n",
      "117/117 - 2s - loss: 5.4645e-04 - accuracy: 1.0000 - val_loss: 0.0696 - val_accuracy: 0.9838\n",
      "Epoch 44/60\n",
      "117/117 - 1s - loss: 5.3771e-04 - accuracy: 1.0000 - val_loss: 0.0698 - val_accuracy: 0.9838\n",
      "Epoch 45/60\n",
      "117/117 - 2s - loss: 5.2935e-04 - accuracy: 1.0000 - val_loss: 0.0700 - val_accuracy: 0.9838\n",
      "Epoch 46/60\n",
      "117/117 - 2s - loss: 5.2168e-04 - accuracy: 1.0000 - val_loss: 0.0701 - val_accuracy: 0.9838\n",
      "Epoch 47/60\n",
      "117/117 - 2s - loss: 5.1427e-04 - accuracy: 1.0000 - val_loss: 0.0703 - val_accuracy: 0.9838\n",
      "Epoch 48/60\n",
      "117/117 - 2s - loss: 5.0743e-04 - accuracy: 1.0000 - val_loss: 0.0704 - val_accuracy: 0.9838\n",
      "Epoch 49/60\n",
      "117/117 - 1s - loss: 5.0084e-04 - accuracy: 1.0000 - val_loss: 0.0706 - val_accuracy: 0.9836\n",
      "Epoch 50/60\n",
      "117/117 - 2s - loss: 4.9466e-04 - accuracy: 1.0000 - val_loss: 0.0707 - val_accuracy: 0.9838\n",
      "Epoch 51/60\n",
      "117/117 - 2s - loss: 4.8871e-04 - accuracy: 1.0000 - val_loss: 0.0709 - val_accuracy: 0.9838\n",
      "Epoch 52/60\n",
      "117/117 - 2s - loss: 4.8321e-04 - accuracy: 1.0000 - val_loss: 0.0710 - val_accuracy: 0.9834\n",
      "Epoch 53/60\n",
      "117/117 - 2s - loss: 4.7784e-04 - accuracy: 1.0000 - val_loss: 0.0712 - val_accuracy: 0.9836\n",
      "Epoch 54/60\n",
      "117/117 - 1s - loss: 4.7276e-04 - accuracy: 1.0000 - val_loss: 0.0713 - val_accuracy: 0.9834\n",
      "Epoch 55/60\n",
      "117/117 - 2s - loss: 4.6792e-04 - accuracy: 1.0000 - val_loss: 0.0714 - val_accuracy: 0.9834\n",
      "Epoch 56/60\n",
      "117/117 - 2s - loss: 4.6333e-04 - accuracy: 1.0000 - val_loss: 0.0716 - val_accuracy: 0.9834\n",
      "Epoch 57/60\n",
      "117/117 - 2s - loss: 4.5886e-04 - accuracy: 1.0000 - val_loss: 0.0717 - val_accuracy: 0.9834\n",
      "Epoch 58/60\n",
      "117/117 - 2s - loss: 4.5465e-04 - accuracy: 1.0000 - val_loss: 0.0718 - val_accuracy: 0.9834\n",
      "Epoch 59/60\n",
      "117/117 - 1s - loss: 4.5060e-04 - accuracy: 1.0000 - val_loss: 0.0720 - val_accuracy: 0.9834\n",
      "Epoch 60/60\n",
      "117/117 - 2s - loss: 4.4672e-04 - accuracy: 1.0000 - val_loss: 0.0721 - val_accuracy: 0.9834\n"
     ]
    }
   ],
   "source": [
    "history = model.fit(train_dataset,\n",
    "                    epochs=60,\n",
    "                    validation_data=validation_dataset,\n",
    "                    verbose=2)"
   ]
  },
  {
   "cell_type": "code",
   "execution_count": 14,
   "metadata": {},
   "outputs": [
    {
     "data": {
      "image/png": "[encoded data removed]",
      "text/plain": [
       "<Figure size 576x576 with 2 Axes>"
      ]
     },
     "metadata": {
      "needs_background": "light"
     },
     "output_type": "display_data"
    }
   ],
   "source": [
    "acc = history.history['accuracy']\n",
    "val_acc = history.history['val_accuracy']\n",
    "\n",
    "loss = history.history['loss']\n",
    "val_loss = history.history['val_loss']\n",
    "\n",
    "plt.figure(figsize=(8, 8))\n",
    "plt.subplot(2, 1, 1)\n",
    "plt.plot(acc, label='Training Accuracy')\n",
    "plt.plot(val_acc, label='Validation Accuracy')\n",
    "plt.legend(loc='lower right')\n",
    "plt.ylabel('Accuracy')\n",
    "plt.ylim([min(plt.ylim()),1])\n",
    "plt.title('Training and Validation Accuracy')\n",
    "\n",
    "plt.subplot(2, 1, 2)\n",
    "plt.plot(loss, label='Training Loss')\n",
    "plt.plot(val_loss, label='Validation Loss')\n",
    "plt.legend(loc='upper right')\n",
    "plt.ylabel('Cross Entropy')\n",
    "plt.ylim([0,1.0])\n",
    "plt.title('Training and Validation Loss')\n",
    "plt.xlabel('epoch')\n",
    "plt.show()"
   ]
  },
  {
   "cell_type": "code",
   "execution_count": 15,
   "metadata": {},
   "outputs": [
    {
     "name": "stdout",
     "output_type": "stream",
     "text": [
      "40/40 [==============================] - 0s 6ms/step - loss: 0.0727 - accuracy: 0.9820\n",
      "test accuracy : 0.9819999933242798\n"
     ]
    }
   ],
   "source": [
    "score = model.evaluate(test_dataset)\n",
    "print('test accuracy : {}'.format(score[1]))"
   ]
  },
  {
   "cell_type": "code",
   "execution_count": 16,
   "metadata": {},
   "outputs": [],
   "source": [
    "ts = TrustScore(alpha=5e-2)\n",
    "ts.fit(enc_train_features, train_labels)"
   ]
  },
  {
   "cell_type": "code",
   "execution_count": 17,
   "metadata": {},
   "outputs": [],
   "source": [
    "predictions = model.predict(test_features)"
   ]
  },
  {
   "cell_type": "code",
   "execution_count": 18,
   "metadata": {},
   "outputs": [],
   "source": [
    "trust_scores, closest_classes = ts.score(enc_test_features,\n",
    "                                         predictions,\n",
    "                                         k=5)"
   ]
  },
  {
   "cell_type": "code",
   "execution_count": 19,
   "metadata": {},
   "outputs": [],
   "source": [
    "num_samples = 5\n",
    "index_min = np.argsort(trust_scores)[:num_samples]\n",
    "index_max = np.argsort(trust_scores)[-num_samples:]\n",
    "score_min = trust_scores[index_min]\n",
    "score_max = trust_scores[index_max]\n",
    "closest_min = closest_classes[index_min]\n",
    "closest_max = closest_classes[index_max]\n",
    "prediction_min = tf.argmax(predictions[index_min], 1)\n",
    "prediction_max = tf.argmax(predictions[index_max], 1)\n",
    "likelihood_min = tf.math.reduce_max(predictions[index_min], 1)\n",
    "likelihood_max = tf.math.reduce_max(predictions[index_max], 1)\n",
    "label_min = tf.argmax(test_labels[index_min], 1)\n",
    "label_max = tf.argmax(test_labels[index_max], 1)\n",
    "features_min = test_features[index_min]\n",
    "features_max = test_features[index_max]"
   ]
  },
  {
   "cell_type": "code",
   "execution_count": 20,
   "metadata": {},
   "outputs": [
    {
     "data": {
      "image/png": "[encoded data removed]",
      "text/plain": [
       "<Figure size 1440x288 with 5 Axes>"
      ]
     },
     "metadata": {
      "needs_background": "light"
     },
     "output_type": "display_data"
    }
   ],
   "source": [
    "plt.figure(figsize=(20, 4))\n",
    "\n",
    "for index in range(num_samples):\n",
    "    axis = plt.subplot(1, num_samples, index + 1)\n",
    "    plt.imshow(features_min[index].reshape(28, 28), cmap='gray')\n",
    "    plt.title('Model prediction : {} ({:.3f})\\nLabel : {}\\nTrust score : {:.3f}' \\\n",
    "              '\\nClosest other class : {}'.format(prediction_min.numpy()[index],\n",
    "                                                  likelihood_min[index],\n",
    "                                                  label_min.numpy()[index],\n",
    "                                                  score_min[index],\n",
    "                                                  closest_min[index]))\n",
    "    axis.get_xaxis().set_visible(False)\n",
    "    axis.get_yaxis().set_visible(False)\n",
    "plt.show()"
   ]
  },
  {
   "cell_type": "code",
   "execution_count": 21,
   "metadata": {},
   "outputs": [
    {
     "data": {
      "image/png": "[encoded data removed]",
      "text/plain": [
       "<Figure size 1440x288 with 5 Axes>"
      ]
     },
     "metadata": {
      "needs_background": "light"
     },
     "output_type": "display_data"
    }
   ],
   "source": [
    "plt.figure(figsize=(20, 4))\n",
    "\n",
    "for index in range(num_samples):\n",
    "    axis = plt.subplot(1, num_samples, index + 1)\n",
    "    plt.imshow(features_max[index].reshape(28, 28), cmap='gray')\n",
    "    plt.title('Model prediction : {} ({:.3f})\\nLabel : {}\\nTrust score : {:.3f}' \\\n",
    "              '\\nClosest other class : {}'.format(prediction_max.numpy()[index],\n",
    "                                                  likelihood_max[index],\n",
    "                                                  label_max.numpy()[index],\n",
    "                                                  score_max[index],\n",
    "                                                  closest_max[index]))\n",
    "    axis.get_xaxis().set_visible(False)\n",
    "    axis.get_yaxis().set_visible(False)\n",
    "plt.show()"
   ]
  },
  {
   "cell_type": "code",
   "execution_count": 22,
   "metadata": {},
   "outputs": [],
   "source": [
    "model.save_weights('saved_model/mnist/dnn/1', save_format='tf')"
   ]
  },
  {
   "cell_type": "code",
   "execution_count": 14,
   "metadata": {},
   "outputs": [],
   "source": [
    "percentiles = [0 + 0.5 * index for index in range(200)]\n",
    "num_fold = 5\n",
    "plt_names = ['Model Confidence', 'Trust Score']"
   ]
  },
  {
   "cell_type": "code",
   "execution_count": 15,
   "metadata": {},
   "outputs": [
    {
     "data": {
      "image/png": "[encoded data removed]",
      "text/plain": [
       "<Figure size 432x288 with 1 Axes>"
      ]
     },
     "metadata": {
      "needs_background": "light"
     },
     "output_type": "display_data"
    }
   ],
   "source": [
    "run_precision_plt(train_features,\n",
    "                  train_labels,\n",
    "                  num_fold,\n",
    "                  percentiles,\n",
    "                  run_model,\n",
    "                  plt_title='',\n",
    "                  plt_names=plt_names,\n",
    "                  predict_correct=True,\n",
    "                  model=model)"
   ]
  }
 ],
 "metadata": {
  "kernelspec": {
   "display_name": "Python 3",
   "language": "python",
   "name": "python3"
  },
  "language_info": {
   "codemirror_mode": {
    "name": "ipython",
    "version": 3
   },
   "file_extension": ".py",
   "mimetype": "text/x-python",
   "name": "python",
   "nbconvert_exporter": "python",
   "pygments_lexer": "ipython3",
   "version": "3.6.7"
  }
 },
 "nbformat": 4,
 "nbformat_minor": 2
}
