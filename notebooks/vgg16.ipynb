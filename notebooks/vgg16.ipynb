{
  "nbformat": 4,
  "nbformat_minor": 0,
  "metadata": {
    "colab": {
      "name": "vgg16.ipynb",
      "version": "0.3.2",
      "provenance": [],
      "collapsed_sections": [],
      "include_colab_link": true
    },
    "kernelspec": {
      "name": "python3",
      "display_name": "Python 3"
    },
    "accelerator": "GPU"
  },
  "cells": [
    {
      "cell_type": "markdown",
      "metadata": {
        "id": "view-in-github",
        "colab_type": "text"
      },
      "source": [
        "<a href=\"https://colab.research.google.com/github/AFAgarap/dnn-trust/blob/master/notebooks/vgg16.ipynb\" target=\"_parent\"><img src=\"https://colab.research.google.com/assets/colab-badge.svg\" alt=\"Open In Colab\"/></a>"
      ]
    },
    {
      "cell_type": "code",
      "metadata": {
        "id": "lUXQT07nyBFr",
        "colab_type": "code",
        "colab": {}
      },
      "source": [
        "!git clone https://github.com/SeldonIO/alibi\n",
        "!mv alibi/alibi/confidence/trustscore.py trustscore.py\n",
        "!pip install --quiet tensorflow-gpu==2.0.0-beta1"
      ],
      "execution_count": 0,
      "outputs": []
    },
    {
      "cell_type": "code",
      "metadata": {
        "id": "lThBeh0Jx2hb",
        "colab_type": "code",
        "colab": {}
      },
      "source": [
        "from __future__ import absolute_import, division, print_function\n",
        "\n",
        "__version__ = '1.0.0'\n",
        "\n",
        "import matplotlib.pyplot as plt\n",
        "import numpy as np\n",
        "from sklearn.model_selection import train_test_split\n",
        "import tensorflow as tf\n",
        "from trustscore import TrustScore\n",
        "assert tf.__version__.startswith('2')"
      ],
      "execution_count": 0,
      "outputs": []
    },
    {
      "cell_type": "code",
      "metadata": {
        "id": "R5KYlGJkyVAF",
        "colab_type": "code",
        "colab": {}
      },
      "source": [
        "tf.config.experimental.set_memory_growth(\n",
        "    tf.config.experimental.list_physical_devices('GPU')[0], True\n",
        ")"
      ],
      "execution_count": 0,
      "outputs": []
    },
    {
      "cell_type": "code",
      "metadata": {
        "id": "rCUCw5bByat2",
        "colab_type": "code",
        "colab": {}
      },
      "source": [
        "tf.random.set_seed(42)\n",
        "np.random.seed(42)"
      ],
      "execution_count": 0,
      "outputs": []
    },
    {
      "cell_type": "code",
      "metadata": {
        "id": "FfWE9UFGydq_",
        "colab_type": "code",
        "colab": {}
      },
      "source": [
        "BATCH_SIZE = 512\n",
        "SHUFFLE_BUFFER_SIZE = 1000\n",
        "WIDTH = 32\n",
        "HEIGHT = 32\n",
        "NUM_CHANNELS = 3"
      ],
      "execution_count": 0,
      "outputs": []
    },
    {
      "cell_type": "code",
      "metadata": {
        "id": "bWT9Frz1y28a",
        "colab_type": "code",
        "colab": {}
      },
      "source": [
        "def augment(image, label):\n",
        "  image = tf.image.resize_with_crop_or_pad(\n",
        "      image, HEIGHT + 8, WIDTH + 8)\n",
        "  image = tf.image.random_crop(image, [HEIGHT, WIDTH, NUM_CHANNELS])\n",
        "  image = tf.image.random_flip_left_right(image)\n",
        "  return image, label"
      ],
      "execution_count": 0,
      "outputs": []
    },
    {
      "cell_type": "code",
      "metadata": {
        "id": "a7mogXHey4yH",
        "colab_type": "code",
        "colab": {}
      },
      "source": [
        "cifar_train, cifar_test = tf.keras.datasets.cifar10.load_data()\n",
        "\n",
        "train_features, train_labels = cifar_train\n",
        "test_features, test_labels = cifar_test\n",
        "\n",
        "train_features = train_features.astype('float32') / 255.\n",
        "test_features = test_features.astype('float32') / 255.\n",
        "\n",
        "test_features = test_features.reshape(-1, 3072)\n",
        "\n",
        "validation_features, test_features, validation_labels, test_labels = \\\n",
        "train_test_split(test_features,\n",
        "                 test_labels,\n",
        "                 test_size=0.50,\n",
        "                 stratify=test_labels)\n",
        "\n",
        "validation_features = validation_features.reshape(-1, 32, 32, 3)\n",
        "test_features = test_features.reshape(-1, 32, 32, 3)"
      ],
      "execution_count": 0,
      "outputs": []
    },
    {
      "cell_type": "code",
      "metadata": {
        "id": "GD1tI6nGy7I4",
        "colab_type": "code",
        "outputId": "20524b71-2f68-4916-85e6-0803e2c805fa",
        "colab": {
          "base_uri": "https://localhost:8080/",
          "height": 105
        }
      },
      "source": [
        "train_dataset = tf.data.Dataset.from_tensor_slices(\n",
        "    (train_features, train_labels)\n",
        ")\n",
        "train_dataset = train_dataset.map(augment)\n",
        "train_dataset = train_dataset.prefetch(tf.data.experimental.AUTOTUNE)\n",
        "train_dataset = train_dataset.shuffle(SHUFFLE_BUFFER_SIZE)\n",
        "train_dataset = train_dataset.batch(BATCH_SIZE, True)\n",
        "\n",
        "validation_dataset = tf.data.Dataset.from_tensor_slices(\n",
        "    (validation_features, validation_labels)\n",
        ")\n",
        "validation_dataset = validation_dataset.batch(BATCH_SIZE)\n",
        "\n",
        "test_dataset = tf.data.Dataset.from_tensor_slices(\n",
        "    (test_features, test_labels)\n",
        ")\n",
        "test_dataset = test_dataset.batch(BATCH_SIZE)"
      ],
      "execution_count": 7,
      "outputs": [
        {
          "output_type": "stream",
          "text": [
            "WARNING: Logging before flag parsing goes to stderr.\n",
            "W0826 13:09:52.724411 140018468902784 deprecation.py:323] From /usr/local/lib/python3.6/dist-packages/tensorflow/python/data/util/random_seed.py:58: add_dispatch_support.<locals>.wrapper (from tensorflow.python.ops.array_ops) is deprecated and will be removed in a future version.\n",
            "Instructions for updating:\n",
            "Use tf.where in 2.0, which has the same broadcast rule as np.where\n"
          ],
          "name": "stderr"
        }
      ]
    },
    {
      "cell_type": "code",
      "metadata": {
        "id": "XUo6rZg4y8sE",
        "colab_type": "code",
        "colab": {}
      },
      "source": [
        "IMAGE_SHAPE = (HEIGHT, WIDTH, NUM_CHANNELS)\n",
        "\n",
        "base_model = tf.keras.applications.VGG16(input_shape=IMAGE_SHAPE,\n",
        "                                         include_top=False,\n",
        "                                         weights='imagenet')"
      ],
      "execution_count": 0,
      "outputs": []
    },
    {
      "cell_type": "code",
      "metadata": {
        "id": "mtVL4LUAzLAj",
        "colab_type": "code",
        "outputId": "656c605f-5e3d-48e0-c5ac-61398d9d28b2",
        "colab": {
          "base_uri": "https://localhost:8080/",
          "height": 34
        }
      },
      "source": [
        "feature_batch = base_model(train_features[:BATCH_SIZE])\n",
        "print(feature_batch.shape)"
      ],
      "execution_count": 9,
      "outputs": [
        {
          "output_type": "stream",
          "text": [
            "(512, 1, 1, 512)\n"
          ],
          "name": "stdout"
        }
      ]
    },
    {
      "cell_type": "code",
      "metadata": {
        "id": "d-L-tx0tzqaK",
        "colab_type": "code",
        "outputId": "0c112f29-7dff-4db2-98f3-22031b7af315",
        "colab": {
          "base_uri": "https://localhost:8080/",
          "height": 799
        }
      },
      "source": [
        "base_model.summary()"
      ],
      "execution_count": 10,
      "outputs": [
        {
          "output_type": "stream",
          "text": [
            "Model: \"vgg16\"\n",
            "_________________________________________________________________\n",
            "Layer (type)                 Output Shape              Param #   \n",
            "=================================================================\n",
            "input_1 (InputLayer)         [(None, 32, 32, 3)]       0         \n",
            "_________________________________________________________________\n",
            "block1_conv1 (Conv2D)        (None, 32, 32, 64)        1792      \n",
            "_________________________________________________________________\n",
            "block1_conv2 (Conv2D)        (None, 32, 32, 64)        36928     \n",
            "_________________________________________________________________\n",
            "block1_pool (MaxPooling2D)   (None, 16, 16, 64)        0         \n",
            "_________________________________________________________________\n",
            "block2_conv1 (Conv2D)        (None, 16, 16, 128)       73856     \n",
            "_________________________________________________________________\n",
            "block2_conv2 (Conv2D)        (None, 16, 16, 128)       147584    \n",
            "_________________________________________________________________\n",
            "block2_pool (MaxPooling2D)   (None, 8, 8, 128)         0         \n",
            "_________________________________________________________________\n",
            "block3_conv1 (Conv2D)        (None, 8, 8, 256)         295168    \n",
            "_________________________________________________________________\n",
            "block3_conv2 (Conv2D)        (None, 8, 8, 256)         590080    \n",
            "_________________________________________________________________\n",
            "block3_conv3 (Conv2D)        (None, 8, 8, 256)         590080    \n",
            "_________________________________________________________________\n",
            "block3_pool (MaxPooling2D)   (None, 4, 4, 256)         0         \n",
            "_________________________________________________________________\n",
            "block4_conv1 (Conv2D)        (None, 4, 4, 512)         1180160   \n",
            "_________________________________________________________________\n",
            "block4_conv2 (Conv2D)        (None, 4, 4, 512)         2359808   \n",
            "_________________________________________________________________\n",
            "block4_conv3 (Conv2D)        (None, 4, 4, 512)         2359808   \n",
            "_________________________________________________________________\n",
            "block4_pool (MaxPooling2D)   (None, 2, 2, 512)         0         \n",
            "_________________________________________________________________\n",
            "block5_conv1 (Conv2D)        (None, 2, 2, 512)         2359808   \n",
            "_________________________________________________________________\n",
            "block5_conv2 (Conv2D)        (None, 2, 2, 512)         2359808   \n",
            "_________________________________________________________________\n",
            "block5_conv3 (Conv2D)        (None, 2, 2, 512)         2359808   \n",
            "_________________________________________________________________\n",
            "block5_pool (MaxPooling2D)   (None, 1, 1, 512)         0         \n",
            "=================================================================\n",
            "Total params: 14,714,688\n",
            "Trainable params: 14,714,688\n",
            "Non-trainable params: 0\n",
            "_________________________________________________________________\n"
          ],
          "name": "stdout"
        }
      ]
    },
    {
      "cell_type": "code",
      "metadata": {
        "id": "XMlkT5ALzuYG",
        "colab_type": "code",
        "outputId": "11d429b8-3273-4920-cb89-f800fe5694ea",
        "colab": {
          "base_uri": "https://localhost:8080/",
          "height": 153
        }
      },
      "source": [
        "global_average_layer = tf.keras.layers.GlobalAveragePooling2D()\n",
        "feature_batch_average = global_average_layer(feature_batch)\n",
        "\n",
        "prediction_layer = tf.keras.layers.Dense(units=10, activation=tf.nn.softmax)\n",
        "prediction_batch = prediction_layer(feature_batch_average)\n",
        "print(prediction_batch)"
      ],
      "execution_count": 11,
      "outputs": [
        {
          "output_type": "stream",
          "text": [
            "tf.Tensor(\n",
            "[[0.02579119 0.05269577 0.3237086  ... 0.04586973 0.19044448 0.02524837]\n",
            " [0.03379135 0.02078396 0.3123097  ... 0.05897397 0.18059945 0.0569054 ]\n",
            " [0.02484503 0.03765731 0.397765   ... 0.02783872 0.14869481 0.04520175]\n",
            " ...\n",
            " [0.01924303 0.04616678 0.24000108 ... 0.04854652 0.17080548 0.08402342]\n",
            " [0.01901378 0.04443201 0.42998996 ... 0.02762174 0.18051642 0.05332911]\n",
            " [0.02539412 0.02681334 0.3900619  ... 0.03025099 0.12463763 0.04385421]], shape=(512, 10), dtype=float32)\n"
          ],
          "name": "stdout"
        }
      ]
    },
    {
      "cell_type": "code",
      "metadata": {
        "id": "pk5BJZpSz11U",
        "colab_type": "code",
        "colab": {}
      },
      "source": [
        "model = tf.keras.Sequential([\n",
        "    base_model,\n",
        "    global_average_layer,\n",
        "    prediction_layer\n",
        "])"
      ],
      "execution_count": 0,
      "outputs": []
    },
    {
      "cell_type": "code",
      "metadata": {
        "id": "WFMhWiRzz4ip",
        "colab_type": "code",
        "colab": {}
      },
      "source": [
        "learning_rate = 1e-4\n",
        "model.compile(optimizer=tf.optimizers.RMSprop(learning_rate),\n",
        "              loss=tf.losses.sparse_categorical_crossentropy,\n",
        "              metrics=['sparse_categorical_accuracy'])"
      ],
      "execution_count": 0,
      "outputs": []
    },
    {
      "cell_type": "code",
      "metadata": {
        "id": "2q70la5Nz6T9",
        "colab_type": "code",
        "outputId": "f1802ad2-3acb-4173-b75f-94018dd1a8c4",
        "colab": {
          "base_uri": "https://localhost:8080/",
          "height": 255
        }
      },
      "source": [
        "model.summary()"
      ],
      "execution_count": 14,
      "outputs": [
        {
          "output_type": "stream",
          "text": [
            "Model: \"sequential\"\n",
            "_________________________________________________________________\n",
            "Layer (type)                 Output Shape              Param #   \n",
            "=================================================================\n",
            "vgg16 (Model)                (None, 1, 1, 512)         14714688  \n",
            "_________________________________________________________________\n",
            "global_average_pooling2d (Gl (None, 512)               0         \n",
            "_________________________________________________________________\n",
            "dense (Dense)                (None, 10)                5130      \n",
            "=================================================================\n",
            "Total params: 14,719,818\n",
            "Trainable params: 14,719,818\n",
            "Non-trainable params: 0\n",
            "_________________________________________________________________\n"
          ],
          "name": "stdout"
        }
      ]
    },
    {
      "cell_type": "code",
      "metadata": {
        "id": "oP_4gVQcz8SV",
        "colab_type": "code",
        "outputId": "bdceaf82-7f8b-4fdc-a908-99b95b6066ff",
        "colab": {
          "base_uri": "https://localhost:8080/",
          "height": 54
        }
      },
      "source": [
        "epochs = 100\n",
        "\n",
        "validation_steps = 20\n",
        "\n",
        "loss_0, accuracy_0 = model.evaluate(validation_dataset, steps=validation_steps)"
      ],
      "execution_count": 15,
      "outputs": [
        {
          "output_type": "stream",
          "text": [
            "10/20 [==============>...............] - ETA: 2s - loss: 2.6713 - sparse_categorical_accuracy: 0.1110"
          ],
          "name": "stdout"
        },
        {
          "output_type": "stream",
          "text": [
            "W0826 13:10:27.954002 140018468902784 training_generator.py:235] Your dataset ran out of data; interrupting training. Make sure that your dataset can generate at least `steps * epochs` batches (in this case, 20 batches). You may need to use the repeat() function when building your dataset.\n"
          ],
          "name": "stderr"
        }
      ]
    },
    {
      "cell_type": "code",
      "metadata": {
        "id": "HsI6XxzIz-P0",
        "colab_type": "code",
        "outputId": "7059413c-a115-4106-de20-d42133f772b6",
        "colab": {
          "base_uri": "https://localhost:8080/",
          "height": 1000
        }
      },
      "source": [
        "history = model.fit(train_dataset,\n",
        "                    epochs=epochs,\n",
        "                    validation_data=validation_dataset)"
      ],
      "execution_count": 16,
      "outputs": [
        {
          "output_type": "stream",
          "text": [
            "Epoch 1/100\n",
            "97/97 [==============================] - 25s 258ms/step - loss: 1.9124 - sparse_categorical_accuracy: 0.3115 - val_loss: 1.5494 - val_sparse_categorical_accuracy: 0.4220\n",
            "Epoch 2/100\n",
            "97/97 [==============================] - 20s 207ms/step - loss: 1.2537 - sparse_categorical_accuracy: 0.5672 - val_loss: 0.9263 - val_sparse_categorical_accuracy: 0.6786\n",
            "Epoch 3/100\n",
            "97/97 [==============================] - 20s 211ms/step - loss: 0.9719 - sparse_categorical_accuracy: 0.6659 - val_loss: 0.8603 - val_sparse_categorical_accuracy: 0.7032\n",
            "Epoch 4/100\n",
            "97/97 [==============================] - 21s 212ms/step - loss: 0.8167 - sparse_categorical_accuracy: 0.7199 - val_loss: 0.8289 - val_sparse_categorical_accuracy: 0.7214\n",
            "Epoch 5/100\n",
            "97/97 [==============================] - 21s 217ms/step - loss: 0.7017 - sparse_categorical_accuracy: 0.7604 - val_loss: 0.6789 - val_sparse_categorical_accuracy: 0.7742\n",
            "Epoch 6/100\n",
            "97/97 [==============================] - 21s 218ms/step - loss: 0.6201 - sparse_categorical_accuracy: 0.7875 - val_loss: 0.5971 - val_sparse_categorical_accuracy: 0.7988\n",
            "Epoch 7/100\n",
            "97/97 [==============================] - 21s 216ms/step - loss: 0.5427 - sparse_categorical_accuracy: 0.8135 - val_loss: 0.6541 - val_sparse_categorical_accuracy: 0.7824\n",
            "Epoch 8/100\n",
            "97/97 [==============================] - 21s 215ms/step - loss: 0.4680 - sparse_categorical_accuracy: 0.8378 - val_loss: 0.7483 - val_sparse_categorical_accuracy: 0.7782\n",
            "Epoch 9/100\n",
            "97/97 [==============================] - 21s 214ms/step - loss: 0.4178 - sparse_categorical_accuracy: 0.8563 - val_loss: 0.5626 - val_sparse_categorical_accuracy: 0.8016\n",
            "Epoch 10/100\n",
            "97/97 [==============================] - 21s 215ms/step - loss: 0.3509 - sparse_categorical_accuracy: 0.8800 - val_loss: 0.6030 - val_sparse_categorical_accuracy: 0.8170\n",
            "Epoch 11/100\n",
            "97/97 [==============================] - 21s 215ms/step - loss: 0.2993 - sparse_categorical_accuracy: 0.8968 - val_loss: 0.6345 - val_sparse_categorical_accuracy: 0.8126\n",
            "Epoch 12/100\n",
            "97/97 [==============================] - 21s 213ms/step - loss: 0.2538 - sparse_categorical_accuracy: 0.9131 - val_loss: 0.8285 - val_sparse_categorical_accuracy: 0.7826\n",
            "Epoch 13/100\n",
            "97/97 [==============================] - 21s 215ms/step - loss: 0.2165 - sparse_categorical_accuracy: 0.9261 - val_loss: 0.7050 - val_sparse_categorical_accuracy: 0.8166\n",
            "Epoch 14/100\n",
            "97/97 [==============================] - 21s 218ms/step - loss: 0.2068 - sparse_categorical_accuracy: 0.9339 - val_loss: 0.6274 - val_sparse_categorical_accuracy: 0.8302\n",
            "Epoch 15/100\n",
            "97/97 [==============================] - 21s 215ms/step - loss: 0.1778 - sparse_categorical_accuracy: 0.9455 - val_loss: 0.6305 - val_sparse_categorical_accuracy: 0.8454\n",
            "Epoch 16/100\n",
            "97/97 [==============================] - 21s 215ms/step - loss: 0.1594 - sparse_categorical_accuracy: 0.9549 - val_loss: 0.7585 - val_sparse_categorical_accuracy: 0.8398\n",
            "Epoch 17/100\n",
            "97/97 [==============================] - 21s 215ms/step - loss: 0.1404 - sparse_categorical_accuracy: 0.9588 - val_loss: 0.7136 - val_sparse_categorical_accuracy: 0.8452\n",
            "Epoch 18/100\n",
            "97/97 [==============================] - 21s 213ms/step - loss: 0.1417 - sparse_categorical_accuracy: 0.9594 - val_loss: 0.7218 - val_sparse_categorical_accuracy: 0.8090\n",
            "Epoch 19/100\n",
            "97/97 [==============================] - 21s 215ms/step - loss: 0.1236 - sparse_categorical_accuracy: 0.9653 - val_loss: 0.7622 - val_sparse_categorical_accuracy: 0.8106\n",
            "Epoch 20/100\n",
            "97/97 [==============================] - 21s 216ms/step - loss: 0.1224 - sparse_categorical_accuracy: 0.9692 - val_loss: 0.7460 - val_sparse_categorical_accuracy: 0.8414\n",
            "Epoch 21/100\n",
            "97/97 [==============================] - 21s 215ms/step - loss: 0.1523 - sparse_categorical_accuracy: 0.9642 - val_loss: 0.7581 - val_sparse_categorical_accuracy: 0.8456\n",
            "Epoch 22/100\n",
            "97/97 [==============================] - 21s 213ms/step - loss: 0.1297 - sparse_categorical_accuracy: 0.9665 - val_loss: 0.7335 - val_sparse_categorical_accuracy: 0.8242\n",
            "Epoch 23/100\n",
            "97/97 [==============================] - 21s 215ms/step - loss: 0.1397 - sparse_categorical_accuracy: 0.9674 - val_loss: 0.6606 - val_sparse_categorical_accuracy: 0.8400\n",
            "Epoch 24/100\n",
            "97/97 [==============================] - 21s 215ms/step - loss: 0.1140 - sparse_categorical_accuracy: 0.9697 - val_loss: 0.6922 - val_sparse_categorical_accuracy: 0.8450\n",
            "Epoch 25/100\n",
            "97/97 [==============================] - 22s 226ms/step - loss: 0.1030 - sparse_categorical_accuracy: 0.9741 - val_loss: 0.8996 - val_sparse_categorical_accuracy: 0.8464\n",
            "Epoch 26/100\n",
            "97/97 [==============================] - 21s 219ms/step - loss: 0.1412 - sparse_categorical_accuracy: 0.9654 - val_loss: 0.8497 - val_sparse_categorical_accuracy: 0.8468\n",
            "Epoch 27/100\n",
            "97/97 [==============================] - 21s 215ms/step - loss: 0.1311 - sparse_categorical_accuracy: 0.9650 - val_loss: 0.8332 - val_sparse_categorical_accuracy: 0.8406\n",
            "Epoch 28/100\n",
            "97/97 [==============================] - 21s 217ms/step - loss: 0.1224 - sparse_categorical_accuracy: 0.9668 - val_loss: 0.8253 - val_sparse_categorical_accuracy: 0.8490\n",
            "Epoch 29/100\n",
            "97/97 [==============================] - 21s 214ms/step - loss: 0.1299 - sparse_categorical_accuracy: 0.9709 - val_loss: 1.0139 - val_sparse_categorical_accuracy: 0.8460\n",
            "Epoch 30/100\n",
            "97/97 [==============================] - 21s 213ms/step - loss: 0.1212 - sparse_categorical_accuracy: 0.9714 - val_loss: 0.9943 - val_sparse_categorical_accuracy: 0.8462\n",
            "Epoch 31/100\n",
            "97/97 [==============================] - 21s 215ms/step - loss: 0.1228 - sparse_categorical_accuracy: 0.9671 - val_loss: 0.9005 - val_sparse_categorical_accuracy: 0.8430\n",
            "Epoch 32/100\n",
            "97/97 [==============================] - 21s 213ms/step - loss: 0.1415 - sparse_categorical_accuracy: 0.9657 - val_loss: 0.8141 - val_sparse_categorical_accuracy: 0.8458\n",
            "Epoch 33/100\n",
            "97/97 [==============================] - 21s 214ms/step - loss: 0.1442 - sparse_categorical_accuracy: 0.9643 - val_loss: 0.8642 - val_sparse_categorical_accuracy: 0.8492\n",
            "Epoch 34/100\n",
            "97/97 [==============================] - 21s 213ms/step - loss: 0.1233 - sparse_categorical_accuracy: 0.9709 - val_loss: 0.9058 - val_sparse_categorical_accuracy: 0.8494\n",
            "Epoch 35/100\n",
            "97/97 [==============================] - 21s 214ms/step - loss: 0.1441 - sparse_categorical_accuracy: 0.9639 - val_loss: 0.6877 - val_sparse_categorical_accuracy: 0.8236\n",
            "Epoch 36/100\n",
            "97/97 [==============================] - 21s 214ms/step - loss: 0.1153 - sparse_categorical_accuracy: 0.9700 - val_loss: 0.7814 - val_sparse_categorical_accuracy: 0.8472\n",
            "Epoch 37/100\n",
            "97/97 [==============================] - 20s 210ms/step - loss: 0.1322 - sparse_categorical_accuracy: 0.9657 - val_loss: 0.6793 - val_sparse_categorical_accuracy: 0.8444\n",
            "Epoch 38/100\n",
            "97/97 [==============================] - 21s 213ms/step - loss: 0.0903 - sparse_categorical_accuracy: 0.9784 - val_loss: 1.1488 - val_sparse_categorical_accuracy: 0.8360\n",
            "Epoch 39/100\n",
            "97/97 [==============================] - 21s 212ms/step - loss: 0.1805 - sparse_categorical_accuracy: 0.9549 - val_loss: 0.8219 - val_sparse_categorical_accuracy: 0.8510\n",
            "Epoch 40/100\n",
            "97/97 [==============================] - 21s 215ms/step - loss: 0.1328 - sparse_categorical_accuracy: 0.9681 - val_loss: 0.6246 - val_sparse_categorical_accuracy: 0.8450\n",
            "Epoch 41/100\n",
            "97/97 [==============================] - 21s 213ms/step - loss: 0.0981 - sparse_categorical_accuracy: 0.9759 - val_loss: 0.8191 - val_sparse_categorical_accuracy: 0.8572\n",
            "Epoch 42/100\n",
            "97/97 [==============================] - 21s 212ms/step - loss: 0.0986 - sparse_categorical_accuracy: 0.9758 - val_loss: 0.9151 - val_sparse_categorical_accuracy: 0.8554\n",
            "Epoch 43/100\n",
            "97/97 [==============================] - 21s 212ms/step - loss: 0.1513 - sparse_categorical_accuracy: 0.9636 - val_loss: 0.8868 - val_sparse_categorical_accuracy: 0.8592\n",
            "Epoch 44/100\n",
            "97/97 [==============================] - 21s 215ms/step - loss: 0.1526 - sparse_categorical_accuracy: 0.9668 - val_loss: 0.9954 - val_sparse_categorical_accuracy: 0.8530\n",
            "Epoch 45/100\n",
            "97/97 [==============================] - 20s 210ms/step - loss: 0.1481 - sparse_categorical_accuracy: 0.9703 - val_loss: 0.9948 - val_sparse_categorical_accuracy: 0.8482\n",
            "Epoch 46/100\n",
            "97/97 [==============================] - 21s 213ms/step - loss: 0.1128 - sparse_categorical_accuracy: 0.9709 - val_loss: 0.7058 - val_sparse_categorical_accuracy: 0.8364\n",
            "Epoch 47/100\n",
            "97/97 [==============================] - 21s 219ms/step - loss: 0.1296 - sparse_categorical_accuracy: 0.9694 - val_loss: 0.7519 - val_sparse_categorical_accuracy: 0.8564\n",
            "Epoch 48/100\n",
            "97/97 [==============================] - 21s 217ms/step - loss: 0.1144 - sparse_categorical_accuracy: 0.9748 - val_loss: 0.9985 - val_sparse_categorical_accuracy: 0.8568\n",
            "Epoch 49/100\n",
            "97/97 [==============================] - 21s 215ms/step - loss: 0.1337 - sparse_categorical_accuracy: 0.9703 - val_loss: 3.4166 - val_sparse_categorical_accuracy: 0.5378\n",
            "Epoch 50/100\n",
            "97/97 [==============================] - 21s 217ms/step - loss: 0.1732 - sparse_categorical_accuracy: 0.9589 - val_loss: 0.9792 - val_sparse_categorical_accuracy: 0.8548\n",
            "Epoch 51/100\n",
            "97/97 [==============================] - 21s 215ms/step - loss: 0.1704 - sparse_categorical_accuracy: 0.9620 - val_loss: 1.0242 - val_sparse_categorical_accuracy: 0.8486\n",
            "Epoch 52/100\n",
            "97/97 [==============================] - 21s 213ms/step - loss: 0.1411 - sparse_categorical_accuracy: 0.9664 - val_loss: 2.0717 - val_sparse_categorical_accuracy: 0.6436\n",
            "Epoch 53/100\n",
            "97/97 [==============================] - 21s 215ms/step - loss: 0.1217 - sparse_categorical_accuracy: 0.9720 - val_loss: 1.0469 - val_sparse_categorical_accuracy: 0.8558\n",
            "Epoch 54/100\n",
            "97/97 [==============================] - 21s 222ms/step - loss: 0.1250 - sparse_categorical_accuracy: 0.9682 - val_loss: 0.9003 - val_sparse_categorical_accuracy: 0.8598\n",
            "Epoch 55/100\n",
            "97/97 [==============================] - 21s 214ms/step - loss: 0.1023 - sparse_categorical_accuracy: 0.9763 - val_loss: 1.1897 - val_sparse_categorical_accuracy: 0.8582\n",
            "Epoch 56/100\n",
            "97/97 [==============================] - 21s 214ms/step - loss: 0.1724 - sparse_categorical_accuracy: 0.9575 - val_loss: 0.8743 - val_sparse_categorical_accuracy: 0.8562\n",
            "Epoch 57/100\n",
            "97/97 [==============================] - 21s 216ms/step - loss: 0.1485 - sparse_categorical_accuracy: 0.9677 - val_loss: 0.9936 - val_sparse_categorical_accuracy: 0.8624\n",
            "Epoch 58/100\n",
            "97/97 [==============================] - 21s 216ms/step - loss: 0.1306 - sparse_categorical_accuracy: 0.9691 - val_loss: 0.8954 - val_sparse_categorical_accuracy: 0.8532\n",
            "Epoch 59/100\n",
            "97/97 [==============================] - 21s 217ms/step - loss: 0.1255 - sparse_categorical_accuracy: 0.9728 - val_loss: 1.7742 - val_sparse_categorical_accuracy: 0.7776\n",
            "Epoch 60/100\n",
            "97/97 [==============================] - 21s 215ms/step - loss: 0.1498 - sparse_categorical_accuracy: 0.9622 - val_loss: 0.9535 - val_sparse_categorical_accuracy: 0.8590\n",
            "Epoch 61/100\n",
            "97/97 [==============================] - 21s 218ms/step - loss: 0.1391 - sparse_categorical_accuracy: 0.9692 - val_loss: 0.9408 - val_sparse_categorical_accuracy: 0.8618\n",
            "Epoch 62/100\n",
            "97/97 [==============================] - 22s 223ms/step - loss: 0.1607 - sparse_categorical_accuracy: 0.9725 - val_loss: 2.2005 - val_sparse_categorical_accuracy: 0.6944\n",
            "Epoch 63/100\n",
            "97/97 [==============================] - 21s 215ms/step - loss: 0.1556 - sparse_categorical_accuracy: 0.9632 - val_loss: 0.8753 - val_sparse_categorical_accuracy: 0.8560\n",
            "Epoch 64/100\n",
            "97/97 [==============================] - 22s 223ms/step - loss: 0.0925 - sparse_categorical_accuracy: 0.9758 - val_loss: 0.8459 - val_sparse_categorical_accuracy: 0.8586\n",
            "Epoch 65/100\n",
            "97/97 [==============================] - 21s 215ms/step - loss: 0.1032 - sparse_categorical_accuracy: 0.9758 - val_loss: 0.9632 - val_sparse_categorical_accuracy: 0.8612\n",
            "Epoch 66/100\n",
            "97/97 [==============================] - 21s 218ms/step - loss: 0.1207 - sparse_categorical_accuracy: 0.9748 - val_loss: 1.6540 - val_sparse_categorical_accuracy: 0.7412\n",
            "Epoch 67/100\n",
            "97/97 [==============================] - 21s 219ms/step - loss: 0.1032 - sparse_categorical_accuracy: 0.9775 - val_loss: 0.9365 - val_sparse_categorical_accuracy: 0.8540\n",
            "Epoch 68/100\n",
            "97/97 [==============================] - 21s 215ms/step - loss: 0.1129 - sparse_categorical_accuracy: 0.9742 - val_loss: 0.6885 - val_sparse_categorical_accuracy: 0.8546\n",
            "Epoch 69/100\n",
            "97/97 [==============================] - 21s 216ms/step - loss: 0.1045 - sparse_categorical_accuracy: 0.9798 - val_loss: 2.1672 - val_sparse_categorical_accuracy: 0.5366\n",
            "Epoch 70/100\n",
            "97/97 [==============================] - 21s 216ms/step - loss: 0.1153 - sparse_categorical_accuracy: 0.9713 - val_loss: 1.0441 - val_sparse_categorical_accuracy: 0.8590\n",
            "Epoch 71/100\n",
            "97/97 [==============================] - 21s 218ms/step - loss: 0.1258 - sparse_categorical_accuracy: 0.9702 - val_loss: 1.0009 - val_sparse_categorical_accuracy: 0.8622\n",
            "Epoch 72/100\n",
            "97/97 [==============================] - 21s 217ms/step - loss: 0.1079 - sparse_categorical_accuracy: 0.9735 - val_loss: 1.0759 - val_sparse_categorical_accuracy: 0.8204\n",
            "Epoch 73/100\n",
            "97/97 [==============================] - 21s 218ms/step - loss: 0.1167 - sparse_categorical_accuracy: 0.9711 - val_loss: 0.8282 - val_sparse_categorical_accuracy: 0.8626\n",
            "Epoch 74/100\n",
            "97/97 [==============================] - 21s 220ms/step - loss: 0.1097 - sparse_categorical_accuracy: 0.9792 - val_loss: 1.0042 - val_sparse_categorical_accuracy: 0.8610\n",
            "Epoch 75/100\n",
            "97/97 [==============================] - 21s 213ms/step - loss: 0.1298 - sparse_categorical_accuracy: 0.9739 - val_loss: 2.0062 - val_sparse_categorical_accuracy: 0.6070\n",
            "Epoch 76/100\n",
            "97/97 [==============================] - 21s 218ms/step - loss: 0.1554 - sparse_categorical_accuracy: 0.9716 - val_loss: 0.8812 - val_sparse_categorical_accuracy: 0.8622\n",
            "Epoch 77/100\n",
            "97/97 [==============================] - 21s 214ms/step - loss: 0.1201 - sparse_categorical_accuracy: 0.9754 - val_loss: 1.2595 - val_sparse_categorical_accuracy: 0.7514\n",
            "Epoch 78/100\n",
            "97/97 [==============================] - 21s 221ms/step - loss: 0.1080 - sparse_categorical_accuracy: 0.9764 - val_loss: 1.0568 - val_sparse_categorical_accuracy: 0.8624\n",
            "Epoch 79/100\n",
            "97/97 [==============================] - 21s 218ms/step - loss: 0.1127 - sparse_categorical_accuracy: 0.9728 - val_loss: 1.0662 - val_sparse_categorical_accuracy: 0.8598\n",
            "Epoch 80/100\n",
            "97/97 [==============================] - 23s 240ms/step - loss: 0.1047 - sparse_categorical_accuracy: 0.9782 - val_loss: 1.1190 - val_sparse_categorical_accuracy: 0.8592\n",
            "Epoch 81/100\n",
            "97/97 [==============================] - 21s 218ms/step - loss: 0.1239 - sparse_categorical_accuracy: 0.9746 - val_loss: 1.3032 - val_sparse_categorical_accuracy: 0.8400\n",
            "Epoch 82/100\n",
            "97/97 [==============================] - 21s 220ms/step - loss: 0.1234 - sparse_categorical_accuracy: 0.9715 - val_loss: 0.7675 - val_sparse_categorical_accuracy: 0.8656\n",
            "Epoch 83/100\n",
            "97/97 [==============================] - 21s 214ms/step - loss: 0.1116 - sparse_categorical_accuracy: 0.9756 - val_loss: 0.8791 - val_sparse_categorical_accuracy: 0.8672\n",
            "Epoch 84/100\n",
            "97/97 [==============================] - 21s 221ms/step - loss: 0.0938 - sparse_categorical_accuracy: 0.9792 - val_loss: 1.0478 - val_sparse_categorical_accuracy: 0.8608\n",
            "Epoch 85/100\n",
            "97/97 [==============================] - 21s 219ms/step - loss: 0.1499 - sparse_categorical_accuracy: 0.9658 - val_loss: 0.8561 - val_sparse_categorical_accuracy: 0.8570\n",
            "Epoch 86/100\n",
            "97/97 [==============================] - 22s 224ms/step - loss: 0.1261 - sparse_categorical_accuracy: 0.9719 - val_loss: 0.9860 - val_sparse_categorical_accuracy: 0.8592\n",
            "Epoch 87/100\n",
            "97/97 [==============================] - 21s 218ms/step - loss: 0.0741 - sparse_categorical_accuracy: 0.9843 - val_loss: 1.1396 - val_sparse_categorical_accuracy: 0.8644\n",
            "Epoch 88/100\n",
            "97/97 [==============================] - 22s 223ms/step - loss: 0.1504 - sparse_categorical_accuracy: 0.9704 - val_loss: 0.8825 - val_sparse_categorical_accuracy: 0.8202\n",
            "Epoch 89/100\n",
            "97/97 [==============================] - 24s 246ms/step - loss: 0.1226 - sparse_categorical_accuracy: 0.9760 - val_loss: 0.9928 - val_sparse_categorical_accuracy: 0.8594\n",
            "Epoch 90/100\n",
            "97/97 [==============================] - 33s 335ms/step - loss: 0.1775 - sparse_categorical_accuracy: 0.9640 - val_loss: 0.7105 - val_sparse_categorical_accuracy: 0.8538\n",
            "Epoch 91/100\n",
            "97/97 [==============================] - 31s 324ms/step - loss: 0.0999 - sparse_categorical_accuracy: 0.9788 - val_loss: 0.8747 - val_sparse_categorical_accuracy: 0.8592\n",
            "Epoch 92/100\n",
            "97/97 [==============================] - 32s 331ms/step - loss: 0.1429 - sparse_categorical_accuracy: 0.9718 - val_loss: 0.8327 - val_sparse_categorical_accuracy: 0.8606\n",
            "Epoch 93/100\n",
            "97/97 [==============================] - 32s 325ms/step - loss: 0.0940 - sparse_categorical_accuracy: 0.9801 - val_loss: 1.4843 - val_sparse_categorical_accuracy: 0.8328\n",
            "Epoch 94/100\n",
            "97/97 [==============================] - 33s 337ms/step - loss: 0.1496 - sparse_categorical_accuracy: 0.9703 - val_loss: 0.9891 - val_sparse_categorical_accuracy: 0.8590\n",
            "Epoch 95/100\n",
            "97/97 [==============================] - 33s 336ms/step - loss: 0.0770 - sparse_categorical_accuracy: 0.9840 - val_loss: 1.2396 - val_sparse_categorical_accuracy: 0.8626\n",
            "Epoch 96/100\n",
            "97/97 [==============================] - 30s 312ms/step - loss: 0.1793 - sparse_categorical_accuracy: 0.9643 - val_loss: 0.8436 - val_sparse_categorical_accuracy: 0.8618\n",
            "Epoch 97/100\n",
            "97/97 [==============================] - 30s 313ms/step - loss: 0.0900 - sparse_categorical_accuracy: 0.9825 - val_loss: 0.9381 - val_sparse_categorical_accuracy: 0.8584\n",
            "Epoch 98/100\n",
            "97/97 [==============================] - 32s 331ms/step - loss: 0.0886 - sparse_categorical_accuracy: 0.9796 - val_loss: 0.9252 - val_sparse_categorical_accuracy: 0.8658\n",
            "Epoch 99/100\n",
            "97/97 [==============================] - 30s 308ms/step - loss: 0.0886 - sparse_categorical_accuracy: 0.9802 - val_loss: 0.9970 - val_sparse_categorical_accuracy: 0.8618\n",
            "Epoch 100/100\n",
            "97/97 [==============================] - 22s 222ms/step - loss: 0.1354 - sparse_categorical_accuracy: 0.9738 - val_loss: 0.8481 - val_sparse_categorical_accuracy: 0.8634\n"
          ],
          "name": "stdout"
        }
      ]
    },
    {
      "cell_type": "code",
      "metadata": {
        "id": "L-tuTX1k-UqB",
        "colab_type": "code",
        "outputId": "afde3d60-8522-4335-9334-3e79e3cdc2c4",
        "colab": {
          "base_uri": "https://localhost:8080/",
          "height": 513
        }
      },
      "source": [
        "acc = history.history['sparse_categorical_accuracy']\n",
        "val_acc = history.history['val_sparse_categorical_accuracy']\n",
        "\n",
        "loss = history.history['loss']\n",
        "val_loss = history.history['val_loss']\n",
        "\n",
        "plt.figure(figsize=(8, 8))\n",
        "plt.subplot(2, 1, 1)\n",
        "plt.plot(acc, label='train accuracy')\n",
        "plt.plot(val_acc, label='val accuracy')\n",
        "plt.legend(loc='lower right')\n",
        "plt.ylabel('accuracy')\n",
        "plt.ylim([min(plt.ylim()), 1])\n",
        "plt.title('train and val accuracy')\n",
        "\n",
        "plt.subplot(2, 1, 2)\n",
        "plt.plot(loss, label='train loss')\n",
        "plt.plot(val_loss, label='val loss')\n",
        "plt.legend(loc='upper right')\n",
        "plt.ylabel('loss')\n",
        "plt.ylim([0, 1.0])\n",
        "plt.title('train and val loss')\n",
        "plt.xlabel('epoch')\n",
        "plt.show()"
      ],
      "execution_count": 17,
      "outputs": [
        {
          "output_type": "display_data",
          "data": {
            "image/png": "[encoded data removed]",
            "text/plain": [
              "<Figure size 576x576 with 2 Axes>"
            ]
          },
          "metadata": {
            "tags": []
          }
        }
      ]
    },
    {
      "cell_type": "code",
      "metadata": {
        "id": "SbujCRYI-NIp",
        "colab_type": "code",
        "outputId": "bc2c5961-eb32-49d5-b9cc-c98118bc0dfe",
        "colab": {
          "base_uri": "https://localhost:8080/",
          "height": 34
        }
      },
      "source": [
        "score = model.evaluate(test_dataset)"
      ],
      "execution_count": 18,
      "outputs": [
        {
          "output_type": "stream",
          "text": [
            "10/10 [==============================] - 1s 68ms/step - loss: 0.8829 - sparse_categorical_accuracy: 0.8538\n"
          ],
          "name": "stdout"
        }
      ]
    },
    {
      "cell_type": "code",
      "metadata": {
        "id": "M2DtDCT_-ntw",
        "colab_type": "code",
        "outputId": "cbc49903-e8dd-4a68-ffa7-cab62e582ef1",
        "colab": {
          "base_uri": "https://localhost:8080/",
          "height": 34
        }
      },
      "source": [
        "print('Test accuracy : {}'.format(score[1]))"
      ],
      "execution_count": 19,
      "outputs": [
        {
          "output_type": "stream",
          "text": [
            "Test accuracy : 0.8537999987602234\n"
          ],
          "name": "stdout"
        }
      ]
    },
    {
      "cell_type": "code",
      "metadata": {
        "id": "IXaRgb05-qlj",
        "colab_type": "code",
        "colab": {}
      },
      "source": [
        "model.save_weights(filepath='vgg16/cifar10/1', save_format='tf')"
      ],
      "execution_count": 0,
      "outputs": []
    },
    {
      "cell_type": "code",
      "metadata": {
        "id": "_LdT7D0a-0Y-",
        "colab_type": "code",
        "outputId": "ced6fe51-90f7-40a6-9978-d06445db1808",
        "colab": {
          "base_uri": "https://localhost:8080/",
          "height": 119
        }
      },
      "source": [
        "!zip -r vgg16-cifar10.zip vgg16/"
      ],
      "execution_count": 21,
      "outputs": [
        {
          "output_type": "stream",
          "text": [
            "  adding: vgg16/ (stored 0%)\n",
            "  adding: vgg16/cifar10/ (stored 0%)\n",
            "  adding: vgg16/cifar10/1.index (deflated 75%)\n",
            "  adding: vgg16/cifar10/1.data-00000-of-00002 (deflated 87%)\n",
            "  adding: vgg16/cifar10/checkpoint (deflated 34%)\n",
            "  adding: vgg16/cifar10/1.data-00001-of-00002 (deflated 13%)\n"
          ],
          "name": "stdout"
        }
      ]
    },
    {
      "cell_type": "code",
      "metadata": {
        "id": "TFTpk8odBquN",
        "colab_type": "code",
        "outputId": "c4c28589-8746-4865-f94c-17fc165626fe",
        "colab": {
          "base_uri": "https://localhost:8080/",
          "height": 510
        }
      },
      "source": [
        "!pip install -U -q PyDrive\n",
        "from pydrive.auth import GoogleAuth\n",
        "from pydrive.drive import GoogleDrive\n",
        "from google.colab import auth\n",
        "from oauth2client.client import GoogleCredentials\n",
        "\n",
        "# 1. Authenticate and create the PyDrive client.\n",
        "auth.authenticate_user()\n",
        "gauth = GoogleAuth()\n",
        "gauth.credentials = GoogleCredentials.get_application_default()\n",
        "drive = GoogleDrive(gauth)\n",
        "\n",
        "# 2. Save Keras Model or weights on google drive\n",
        "\n",
        "# create on Colab directory\n",
        "model_file = drive.CreateFile({'title' : 'vgg16-cifar10.zip'})\n",
        "model_file.SetContentFile('vgg16-cifar10.zip')\n",
        "model_file.Upload()\n",
        "\n",
        "# download to google drive\n",
        "drive.CreateFile({'id': model_file.get('id')})"
      ],
      "execution_count": 22,
      "outputs": [
        {
          "output_type": "stream",
          "text": [
            "W0826 13:50:19.587476 140018468902784 __init__.py:44] file_cache is unavailable when using oauth2client >= 4.0.0 or google-auth\n",
            "Traceback (most recent call last):\n",
            "  File \"/usr/local/lib/python3.6/dist-packages/googleapiclient/discovery_cache/__init__.py\", line 36, in autodetect\n",
            "    from google.appengine.api import memcache\n",
            "ModuleNotFoundError: No module named 'google.appengine'\n",
            "\n",
            "During handling of the above exception, another exception occurred:\n",
            "\n",
            "Traceback (most recent call last):\n",
            "  File \"/usr/local/lib/python3.6/dist-packages/googleapiclient/discovery_cache/file_cache.py\", line 33, in <module>\n",
            "    from oauth2client.contrib.locked_file import LockedFile\n",
            "ModuleNotFoundError: No module named 'oauth2client.contrib.locked_file'\n",
            "\n",
            "During handling of the above exception, another exception occurred:\n",
            "\n",
            "Traceback (most recent call last):\n",
            "  File \"/usr/local/lib/python3.6/dist-packages/googleapiclient/discovery_cache/file_cache.py\", line 37, in <module>\n",
            "    from oauth2client.locked_file import LockedFile\n",
            "ModuleNotFoundError: No module named 'oauth2client.locked_file'\n",
            "\n",
            "During handling of the above exception, another exception occurred:\n",
            "\n",
            "Traceback (most recent call last):\n",
            "  File \"/usr/local/lib/python3.6/dist-packages/googleapiclient/discovery_cache/__init__.py\", line 41, in autodetect\n",
            "    from . import file_cache\n",
            "  File \"/usr/local/lib/python3.6/dist-packages/googleapiclient/discovery_cache/file_cache.py\", line 41, in <module>\n",
            "    'file_cache is unavailable when using oauth2client >= 4.0.0 or google-auth')\n",
            "ImportError: file_cache is unavailable when using oauth2client >= 4.0.0 or google-auth\n"
          ],
          "name": "stderr"
        },
        {
          "output_type": "execute_result",
          "data": {
            "text/plain": [
              "GoogleDriveFile({'id': '1gSm-LDR3z19tnQq72AakOygF2GRsS_MO'})"
            ]
          },
          "metadata": {
            "tags": []
          },
          "execution_count": 22
        }
      ]
    }
  ]
}